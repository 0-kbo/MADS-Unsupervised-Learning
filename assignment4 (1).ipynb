{
 "cells": [
  {
   "cell_type": "markdown",
   "metadata": {},
   "source": [
    "## SIADS 543 Assignment 4: Improving supervised learning with unsupervised methods.\n",
    "\n",
    "In this assignment, you'll explore topics from week 4: semi-supervised learning, data imputation and covariate shift, with the underlying theme being how unsupervised learning can improve supervised learning.\n",
    "\n",
    "*Please note that for autograder messages that check a list, it will typically report any problems using a list index starting at zero, i.e. the first list element is called \"element 0\".*"
   ]
  },
  {
   "cell_type": "code",
   "execution_count": 1,
   "metadata": {},
   "outputs": [],
   "source": [
    "# First import some necessary libararies \n",
    "import numpy as np\n",
    "import pandas as pd\n",
    "import seaborn as sns\n",
    "import matplotlib.pyplot as plt\n",
    "%matplotlib inline\n",
    "\n",
    "# Suppress all warnings\n",
    "import warnings\n",
    "warnings.filterwarnings('ignore')\n",
    "\n",
    "np.set_printoptions(precision = 3)"
   ]
  },
  {
   "cell_type": "markdown",
   "metadata": {},
   "source": [
    "## Question 1. (35 points total) Semi-supervised learning: label propagation.\n",
    "\n",
    "We've provided you a dataset where some instances have labels, but most labels are missing. In this question, you'll use label propagation methods from semi-supervised learning to infer the missing labels. The application is classification: the general goal of this question is to answer: was semi-supervised learning using label propagation successful at improving the accuracy of this question's classifier?\n",
    "\n",
    "The backstory:\n",
    "\n",
    "A professor and lab assistants spend months manually classifying cancer cells as benign or malignant, and gathering a set of descriptive features based on their visual properties. Their goal is to use support vector machines to predict whether a cancer cell is benign or malignant based on its features.\n",
    "\n",
    "After painstakingly analyzing and sorting the lab samples into boxes of benign and malignant groups, the clumsy professor accidently spills a mug of artisanal, locally-sourced dark roast Arabica coffee all over the vials, erasing most of their benign/malignant labels. (Each vial and its label represent one data instance.) To add insult to injury, in trying to avoid the coffee the professor knocks the boxes to the floor and the benign/malignant groups get completely mixed together.\n",
    "\n",
    "Because of the trajectory of the coffee relative to the boxes, the professor estimates these probabilities:\n",
    "\n",
    "Probability a benign (non-malignant) cell vial (instance) had its label erased: 30%\n",
    "Probability a malignant cell vial (instance) had its label erased : 90%\n",
    "\n",
    "Their paper to the journal \"Annals of Overfitting and Data Leakage\" is due tomorrow. There are two choices they have for training their classifier and they want to maximize accuracy.\n",
    "\n",
    "`METHOD 1.` Throw away any vials whose labels were erased, and train the classifier ONLY on the much smaller but complete and accurate labeled data that remain.\n",
    "\n",
    "`METHOD 2.` Attempt to use semi-supervised learning to reconstitute the missing labels, and then train the classifier on that \"reconstituted\" dataset. An insightful colleague, an instructor for the SIADS 543 course, suggests using a label propagation algorithm in scikit-learn.\n",
    "\n",
    "Your goal for this question is to train a classifier for each of methods 1 and 2 to see how semi-supervised learning can affect classifier performance.\n",
    "\n",
    "But before you do that, run the code below to initialize the raw training and test sets. Then, instead of spilling hot coffee, you're going to simulate the label destruction by calling the provided function get_mangled_label_dataset(). \n"
   ]
  },
  {
   "cell_type": "code",
   "execution_count": 2,
   "metadata": {},
   "outputs": [],
   "source": [
    "# Run the following startup code to load the needed (corrupted) dataset and\n",
    "# its smaller, uncorrupted counterpart.\n",
    "\n",
    "from sklearn.model_selection import train_test_split\n",
    "from sklearn.preprocessing import StandardScaler\n",
    "\n",
    "from sklearn.datasets import load_breast_cancer\n",
    "(X, y) = load_breast_cancer(return_X_y = True)\n",
    "\n",
    "X_train_raw, X_test_raw, y_train, y_test = train_test_split(X, y, random_state=0)\n",
    "\n",
    "X_train = StandardScaler().fit_transform(X_train_raw)\n",
    "X_test  = StandardScaler().fit_transform(X_test_raw)\n",
    "\n",
    "# This function takes a dataset and label set as input, and returns the following:\n",
    "#   - The X features of the subset of instances that had intact labels\n",
    "#   - The y labels of the subset of instances that had intact labels\n",
    "#   - The X features of the complete training set\n",
    "#   - The y labels of the complete training set WITH DESTROYED LABELS according to the assignment specifications.\n",
    "def get_mangled_label_dataset(X_train, y_train):\n",
    "    rng = np.random.RandomState(0)\n",
    "    \n",
    "    frac_0 = 0.30 # as specified in assignment question\n",
    "    frac_1 = 0.90\n",
    "\n",
    "    X_train_0 = X_train[y_train == 0]\n",
    "    y_train_0 = y_train[y_train == 0]\n",
    "\n",
    "    X_train_1 = X_train[y_train == 1]\n",
    "    y_train_1 = y_train[y_train == 1]\n",
    "\n",
    "    X_train_complete = np.vstack((X_train_0, X_train_1))\n",
    "    y_train_complete = np.concatenate((y_train_0, y_train_1))\n",
    "\n",
    "    random_unlabeled_points_0 = rng.rand(len(y_train_0)) < frac_0\n",
    "    random_unlabeled_points_1 = rng.rand(len(y_train_1)) < frac_1\n",
    "    random_unlabeled_points = np.concatenate((random_unlabeled_points_0, random_unlabeled_points_1))\n",
    "\n",
    "    random_labeled_points_0 = np.logical_not(random_unlabeled_points_0)\n",
    "    random_labeled_points_1 = np.logical_not(random_unlabeled_points_1)\n",
    "\n",
    "    labeled_subset_X_train_0  = X_train_0[random_labeled_points_0]\n",
    "    labeled_subset_X_train_1  = X_train_1[random_labeled_points_1]\n",
    "    labeled_subset_y_train_0  = y_train_0[random_labeled_points_0]\n",
    "    labeled_subset_y_train_1  = y_train_1[random_labeled_points_1]\n",
    "\n",
    "    labeled_subset_X_train = np.vstack((labeled_subset_X_train_0, labeled_subset_X_train_1))\n",
    "    labeled_subset_y_train = np.concatenate((labeled_subset_y_train_0, labeled_subset_y_train_1))\n",
    "\n",
    "    labels_train_with_destroyed = np.copy(y_train_complete)\n",
    "    labels_train_with_destroyed[random_unlabeled_points] = -1\n",
    "\n",
    "    return (labeled_subset_X_train, labeled_subset_y_train, X_train_complete, labels_train_with_destroyed)\n"
   ]
  },
  {
   "cell_type": "markdown",
   "metadata": {},
   "source": [
    "### Part 1.a (15 points).  Finding the classifier accuracy using Method 1 (train only on the intact remaining labeled data).\n",
    "\n",
    "In preparation for this part and the next, run get_mangled_dataset(.) on the original training set X_train, and train a `support vector classifier` with default parameters (call this the method 1 classifier) on the resulting subset of the instances that had intact labels. Your function should return a single float: the accuracy of the method 1 classifier on the test set, i.e using X_test, y_test.  No cross-validation required: just a single test run."
   ]
  },
  {
   "cell_type": "code",
   "execution_count": 3,
   "metadata": {
    "deletable": false,
    "nbgrader": {
     "cell_type": "code",
     "checksum": "d2fe73f7490d471f3ba5c30a51f6d788",
     "grade": false,
     "grade_id": "cell-3d42ec3f523c567a",
     "locked": false,
     "schema_version": 3,
     "solution": true
    }
   },
   "outputs": [],
   "source": [
    "# YOUR CODE HERE\n",
    "from sklearn.svm import SVC\n",
    "from sklearn.metrics import accuracy_score\n",
    "\n",
    "labeled_subset_X_train, labeled_subset_y_train, X_train_complete, labels_train_with_destroyed = get_mangled_label_dataset(X_train, y_train)\n",
    "# raise NotImplementedError()\n",
    "\n",
    "# YOUR CODE HERE\n",
    "# raise NotImplementedError()\n",
    "\n",
    "def answer_label_propagation_a():\n",
    "    result = None\n",
    "    \n",
    "    svc_full = SVC()\n",
    "    \n",
    "    svc_full.fit(labeled_subset_X_train,labeled_subset_y_train)\n",
    "    test_preds_full = svc_full.predict(X_test)\n",
    "    acc_full = accuracy_score(y_test, test_preds_full)\n",
    "    \n",
    "    result = acc_full\n",
    "    \n",
    "    # YOUR CODE HERE\n",
    "#     raise NotImplementedError()\n",
    "    \n",
    "    return result"
   ]
  },
  {
   "cell_type": "code",
   "execution_count": 4,
   "metadata": {
    "deletable": false,
    "editable": false,
    "nbgrader": {
     "cell_type": "code",
     "checksum": "8d90f08c526431b05bbf169dc642e3f0",
     "grade": true,
     "grade_id": "cell-b2d79c086a59803c",
     "locked": true,
     "points": 15,
     "schema_version": 3,
     "solution": false
    }
   },
   "outputs": [],
   "source": [
    "stu_ans = answer_label_propagation_a()\n",
    "\n",
    "assert isinstance(stu_ans, float), \"Q1a: Your function should return a float.\"\n",
    "\n",
    "del stu_ans"
   ]
  },
  {
   "cell_type": "markdown",
   "metadata": {},
   "source": [
    "### Part 1.b (20 points).  Finding the classifier accuracy using Method 2 (do label propagation to infer all missing labels and train on the resulting complete training set)\n",
    "\n",
    "Assuming you've run `get_mangled_dataset(.)` on the original training set X_train, now perform label propagation on the complete training set with missing labels (X_train_complete, y_train_complete_missing).  For label propagations, choose the semi-supervised method in scikit-learn that does label propagation using an affinity matrix based on the normalized graph Laplacian. With that class, **use these settings: the \"knn\" kernel with n=9 neighbors, alpha = 0.1, max_iter=30, tol=0.001**.\n",
    "\n",
    "Then, train a support vector classifier **using the SVC class** with default parameters (call this the method 2 classifier) on the resulting complete training set with inferred labels. Your function should return a single float: the accuracy of the method 2 classifier on the test set, i.e using X_test, y_test.  No cross-validation required: just a single test run.\n",
    "\n",
    "Was the label propagation effective, and save the team's journal submission?"
   ]
  },
  {
   "cell_type": "code",
   "execution_count": 5,
   "metadata": {
    "deletable": false,
    "nbgrader": {
     "cell_type": "code",
     "checksum": "773d78e24c437ae8274162b4ceeee915",
     "grade": false,
     "grade_id": "cell-a62f850090dc8412",
     "locked": false,
     "schema_version": 3,
     "solution": true
    }
   },
   "outputs": [],
   "source": [
    "# YOUR CODE HERE\n",
    "# raise NotImplementedError()\n",
    "\n",
    "# YOUR CODE HERE\n",
    "# raise NotImplementedError()\n",
    "\n",
    "from sklearn.semi_supervised import LabelSpreading\n",
    "n_neighbors= 9\n",
    "\n",
    "def answer_label_propagation_b():\n",
    "    result = None\n",
    "    # YOUR CODE HERE\n",
    "    label_spread_model = LabelSpreading(kernel='knn', n_neighbors=n_neighbors, \n",
    "                                  alpha=0.1, max_iter=30, tol=0.001)\n",
    "    \n",
    "    label_spread_model.fit(X_train_complete, labels_train_with_destroyed)\n",
    "    pred_y_train_complete = label_spread_model.predict(X_train_complete)\n",
    "    \n",
    "    svc_label_spread = SVC()\n",
    "    \n",
    "    svc_label_spread.fit(X_train_complete, pred_y_train_complete)\n",
    "    test_preds_label_spread = svc_label_spread.predict(X_test)\n",
    "    acc_with_label_spread   = accuracy_score(y_test, test_preds_label_spread)\n",
    "    \n",
    "    result = acc_with_label_spread\n",
    "#     raise NotImplementedError()\n",
    "    \n",
    "    return result"
   ]
  },
  {
   "cell_type": "code",
   "execution_count": 6,
   "metadata": {
    "deletable": false,
    "editable": false,
    "nbgrader": {
     "cell_type": "code",
     "checksum": "d1856d1f6845414cfdadd19ed05213f4",
     "grade": true,
     "grade_id": "cell-e5a0dd64494f2fa6",
     "locked": true,
     "points": 20,
     "schema_version": 3,
     "solution": false
    }
   },
   "outputs": [],
   "source": [
    "stu_ans = answer_label_propagation_b()\n",
    "\n",
    "assert isinstance(stu_ans, float), \"Q1b: Your function should return a float.\"\n",
    "\n",
    "del stu_ans"
   ]
  },
  {
   "cell_type": "markdown",
   "metadata": {},
   "source": [
    "## Question 2 (40 points total)\n",
    "\n",
    "As discussed in this week's lecture on how unsupervised learning can help supervised learning, `covariate shift` is the name of a phenomenon in which the underlying distribution of the features for the data instances being classified using a trained model is different from the underlying distribution of the data originally used to train the classifier. This is a critical problem since the normal machine learning paradigm of estimating generalization error by minimizing test error on held-out data assumes that any future data instances to be classified are drawn from the same underlying distribution as the data used to train/test the classifier. If this assumption doesn't hold, it means your classifier may be out of date, probably giving worse predictions over time, and in need of retraining. (I use the term \"classifier\" here but the same applies if you're training/evaluating a regressor.)  Note that covariate shift is different than 'concept drift' which refers to how a *label* definition may change over time.\n",
    "\n",
    "There are many methods for detecting covariate shift. In this question we will use a simple one based on the methods you've already seen in week 1 for density estimation, and in this week's discussion (in the EM lecture) on Gaussian mixture models (GMM).\n",
    "\n",
    "Scenario: You have set up an online business selling wine. As part of a site recommender system, you build a regression model that can predict the likely user quality rating for a wine based on several features. These features summarize some of the wine's various quantitative properties (e.g. alcohol % by volume, taste rating, level of sulfites, and other chemical properties) which are provided as part of an analysis by the supplier. Your regression algorithm will try to predict the customers' perceived quality of the wine, which in turn will help you predict possible future demand and also set the wine price accordingly. Your original training data comes from the current set of wines provided by your supplier, plus labels that you gathered (in a time consuming, expensive process) from online customer ratings and in-person tasting.\n",
    "\n",
    "You won't need detailed knowledge of the features to use this data, but in case you're curious, each instance of a wine has the following real-valued features:\n",
    "\n",
    "`\"fixed acidity\"\n",
    "\"volatile acidity\"\n",
    "\"citric acid\"\n",
    "\"residual sugar\"\n",
    "\"chlorides\"\n",
    "\"free sulfur dioxide\"\n",
    "\"total sulfur dioxide\"\n",
    "\"density\"\n",
    "\"pH\"\n",
    "\"sulphates\"\n",
    "\"alcohol\"`\n",
    "\n",
    "In addition, there's a final column which is the instance label, i.e. the quality rating:\n",
    "   `\"quality\"`  (This is an ordinal quality rating from 1-10 from a human judge: higher is better quality.)\n",
    "\n",
    "Before starting, run the preamble code below to load the various dataset(s) you'll need.\n",
    "\n",
    "**NOTE: As always, use random_state = 42 for any regressor, mixture model, or other scikit-learn call that takes it as an argument.**"
   ]
  },
  {
   "cell_type": "code",
   "execution_count": 7,
   "metadata": {},
   "outputs": [],
   "source": [
    "from sklearn.preprocessing import StandardScaler\n",
    "\n",
    "# Load your base training set that will be used to train the starting classifier.\n",
    "df_base = pd.read_csv(\"assets/wine-base-dataset.csv\")\n",
    "X_base = df_base.iloc[:, :-1]  # take all columns except the last\n",
    "y_base = df_base.iloc[:, -1]  # take just the last column (the quality score, which is the regression target)\n",
    "\n",
    "X_base_normalized   = StandardScaler().fit_transform(X_base)"
   ]
  },
  {
   "cell_type": "markdown",
   "metadata": {},
   "source": [
    "### Part 2.a (10 points). Compute the baseline regression score of your wine quality classifier using the existing base dataset.\n",
    "\n",
    "You decide to start by using a random forest regressor for your quality predictions. Using your existing complete X_base_normalized dataset, compute the mean five-fold cross-validation score achieved by a default random forest regressor.  Your function should return a `float` representing this mean score."
   ]
  },
  {
   "cell_type": "code",
   "execution_count": 8,
   "metadata": {
    "deletable": false,
    "nbgrader": {
     "cell_type": "code",
     "checksum": "c237702fa03a5473a89c5b62d5098fb5",
     "grade": false,
     "grade_id": "cell-8eea2e5dcf829c94",
     "locked": false,
     "schema_version": 3,
     "solution": true
    }
   },
   "outputs": [],
   "source": [
    "# YOUR CODE HERE\n",
    "# raise NotImplementedError()\n",
    "from sklearn.ensemble import RandomForestRegressor\n",
    "from sklearn.model_selection import cross_val_score\n",
    "\n",
    "\n",
    "def answer_covariate_shift_a():\n",
    "    result = None\n",
    "    \n",
    "    regr = RandomForestRegressor(random_state = 42)\n",
    "    regr.fit(X_base_normalized, y_base)\n",
    "    \n",
    "    scores = cross_val_score(regr, X_base_normalized, y_base, cv=5)\n",
    "    \n",
    "    result = scores.mean()\n",
    "    \n",
    "    # YOUR CODE HERE\n",
    "#     raise NotImplementedError()\n",
    "    \n",
    "    return result"
   ]
  },
  {
   "cell_type": "code",
   "execution_count": 9,
   "metadata": {
    "deletable": false,
    "editable": false,
    "nbgrader": {
     "cell_type": "code",
     "checksum": "beee761b7ce993ac5fabd7d035f3fafa",
     "grade": true,
     "grade_id": "cell-2079bdf62870ff23",
     "locked": true,
     "points": 10,
     "schema_version": 3,
     "solution": false
    }
   },
   "outputs": [],
   "source": [
    "stu_ans = answer_covariate_shift_a()\n",
    "\n",
    "assert isinstance(stu_ans, float), \"Q2a: Your function should return a float.\"\n",
    "\n",
    "del stu_ans"
   ]
  },
  {
   "cell_type": "code",
   "execution_count": 10,
   "metadata": {},
   "outputs": [
    {
     "data": {
      "text/plain": [
       "0.3081286839917401"
      ]
     },
     "execution_count": 10,
     "metadata": {},
     "output_type": "execute_result"
    }
   ],
   "source": [
    "stu_ans = answer_covariate_shift_a()\n",
    "stu_ans"
   ]
  },
  {
   "cell_type": "markdown",
   "metadata": {},
   "source": [
    "### Part 2.b (10 points) Fit a Gaussian mixture model to the base dataset. Evaluate the average log probability density of the base dataset under this GMM. \n",
    "\n",
    "Create an instance of the sklearn.mixture class GaussianMixture with 5 components and a full covariance matrix, and fit it using the base dataset.\n",
    "\n",
    "You can refer to the week 1 notebook density estimation examples for the method you use to fit a mixture model, and to compute the log probability density of a set X of instances.\n",
    "\n",
    "Your function should return a `float` containing the mean log probability of the base dataset instances under this GMM."
   ]
  },
  {
   "cell_type": "code",
   "execution_count": 11,
   "metadata": {
    "deletable": false,
    "nbgrader": {
     "cell_type": "code",
     "checksum": "f6172543b40b4466865f235e8821180b",
     "grade": false,
     "grade_id": "cell-205448801b462753",
     "locked": false,
     "schema_version": 3,
     "solution": true
    }
   },
   "outputs": [],
   "source": [
    "# YOUR CODE HERE\n",
    "# raise NotImplementedError()\n",
    "from sklearn.mixture import GaussianMixture\n",
    "\n",
    "def answer_covariate_shift_b():\n",
    "    result = None\n",
    "    # YOUR CODE HERE\n",
    "#     raise NotImplementedError()\n",
    "\n",
    "    gm = GaussianMixture(n_components=5, random_state=42).fit(X_base_normalized)\n",
    "    \n",
    "    scores = gm.score_samples(X_base_normalized)\n",
    "    \n",
    "    result = scores.mean()\n",
    "    \n",
    "    return result"
   ]
  },
  {
   "cell_type": "code",
   "execution_count": 12,
   "metadata": {
    "deletable": false,
    "editable": false,
    "nbgrader": {
     "cell_type": "code",
     "checksum": "979ff34906e20d32ff008379cb4d7528",
     "grade": true,
     "grade_id": "cell-39765eec0d59ac88",
     "locked": true,
     "points": 10,
     "schema_version": 3,
     "solution": false
    }
   },
   "outputs": [],
   "source": [
    "stu_ans = answer_covariate_shift_b()\n",
    "\n",
    "assert isinstance(stu_ans, float), \"Q2b: Your function should return a float.\"\n",
    "\n",
    "del stu_ans"
   ]
  },
  {
   "cell_type": "code",
   "execution_count": 13,
   "metadata": {},
   "outputs": [
    {
     "data": {
      "text/plain": [
       "-9.969418280925668"
      ]
     },
     "execution_count": 13,
     "metadata": {},
     "output_type": "execute_result"
    }
   ],
   "source": [
    "stu_ans = answer_covariate_shift_b()\n",
    "stu_ans"
   ]
  },
  {
   "cell_type": "markdown",
   "metadata": {},
   "source": [
    "### Part 2.c (5 points) Given a dataset of new items without labels, compute the average log probability of the new item dataset under this GMM.\n",
    "\n",
    "A new wine inventory list comes in from your supplier in the file `wine-newitems-dataset.csv`.  These are the wines the supplier expects to be able to deliver in the next month and they come with the usual features.\n",
    "\n",
    "You decide to check for covariate shift by seeing how likely, on average, these new items are in the GMM trained with the (old) base dataset. If the new items are really unlikely, it may be time to consider making the effort to get labels for some or all of these new items in order to create an updated training set. (Okay - if you look closely the newitems dataset already has a final quality label column you will use for Part 2d, but for the purposes of this question, you can ignore that column.)\n",
    "\n",
    "Your function should return a float with the mean log probability of the new item samples under the base GMM you fit in Part 2b (trained with the base dataset).\n",
    "\n",
    "Compare this to your answer from Part 2b, the mean log probability of the (old) base samples under the same GMM. \n",
    "What is the difference? (Note that log probabilities will be negative numbers, since probabilities are between 0 and 1.)\n",
    "\n",
    "Run the code below to load and normalized a dataset of new items (that are unlabeled)."
   ]
  },
  {
   "cell_type": "code",
   "execution_count": 14,
   "metadata": {},
   "outputs": [],
   "source": [
    "# Use this code to load the new items dataset\n",
    "\n",
    "df_newitems = pd.read_csv(\"assets/wine-newitems-dataset.csv\")\n",
    "X_newitems = df_newitems.iloc[:, :-1]    # ignore the label for now\n",
    "\n",
    "X_newitems_normalized = StandardScaler().fit_transform(X_newitems)"
   ]
  },
  {
   "cell_type": "code",
   "execution_count": 57,
   "metadata": {},
   "outputs": [
    {
     "data": {
      "text/html": [
       "<div>\n",
       "<style scoped>\n",
       "    .dataframe tbody tr th:only-of-type {\n",
       "        vertical-align: middle;\n",
       "    }\n",
       "\n",
       "    .dataframe tbody tr th {\n",
       "        vertical-align: top;\n",
       "    }\n",
       "\n",
       "    .dataframe thead th {\n",
       "        text-align: right;\n",
       "    }\n",
       "</style>\n",
       "<table border=\"1\" class=\"dataframe\">\n",
       "  <thead>\n",
       "    <tr style=\"text-align: right;\">\n",
       "      <th></th>\n",
       "      <th>fixed acidity</th>\n",
       "      <th>volatile acidity</th>\n",
       "      <th>citric acid</th>\n",
       "      <th>residual sugar</th>\n",
       "      <th>chlorides</th>\n",
       "      <th>free sulfur dioxide</th>\n",
       "      <th>total sulfur dioxide</th>\n",
       "      <th>density</th>\n",
       "      <th>pH</th>\n",
       "      <th>sulphates</th>\n",
       "      <th>alcohol</th>\n",
       "    </tr>\n",
       "  </thead>\n",
       "  <tbody>\n",
       "    <tr>\n",
       "      <th>0</th>\n",
       "      <td>7.0</td>\n",
       "      <td>0.27</td>\n",
       "      <td>0.36</td>\n",
       "      <td>20.7</td>\n",
       "      <td>0.045</td>\n",
       "      <td>45.0</td>\n",
       "      <td>170.0</td>\n",
       "      <td>1.00100</td>\n",
       "      <td>3.00</td>\n",
       "      <td>0.45</td>\n",
       "      <td>8.8</td>\n",
       "    </tr>\n",
       "    <tr>\n",
       "      <th>1</th>\n",
       "      <td>6.3</td>\n",
       "      <td>0.30</td>\n",
       "      <td>0.34</td>\n",
       "      <td>1.6</td>\n",
       "      <td>0.049</td>\n",
       "      <td>14.0</td>\n",
       "      <td>132.0</td>\n",
       "      <td>0.99400</td>\n",
       "      <td>3.30</td>\n",
       "      <td>0.49</td>\n",
       "      <td>9.5</td>\n",
       "    </tr>\n",
       "    <tr>\n",
       "      <th>2</th>\n",
       "      <td>8.1</td>\n",
       "      <td>0.28</td>\n",
       "      <td>0.40</td>\n",
       "      <td>6.9</td>\n",
       "      <td>0.050</td>\n",
       "      <td>30.0</td>\n",
       "      <td>97.0</td>\n",
       "      <td>0.99510</td>\n",
       "      <td>3.26</td>\n",
       "      <td>0.44</td>\n",
       "      <td>10.1</td>\n",
       "    </tr>\n",
       "    <tr>\n",
       "      <th>3</th>\n",
       "      <td>7.2</td>\n",
       "      <td>0.23</td>\n",
       "      <td>0.32</td>\n",
       "      <td>8.5</td>\n",
       "      <td>0.058</td>\n",
       "      <td>47.0</td>\n",
       "      <td>186.0</td>\n",
       "      <td>0.99560</td>\n",
       "      <td>3.19</td>\n",
       "      <td>0.40</td>\n",
       "      <td>9.9</td>\n",
       "    </tr>\n",
       "    <tr>\n",
       "      <th>4</th>\n",
       "      <td>7.2</td>\n",
       "      <td>0.23</td>\n",
       "      <td>0.32</td>\n",
       "      <td>8.5</td>\n",
       "      <td>0.058</td>\n",
       "      <td>47.0</td>\n",
       "      <td>186.0</td>\n",
       "      <td>0.99560</td>\n",
       "      <td>3.19</td>\n",
       "      <td>0.40</td>\n",
       "      <td>9.9</td>\n",
       "    </tr>\n",
       "    <tr>\n",
       "      <th>...</th>\n",
       "      <td>...</td>\n",
       "      <td>...</td>\n",
       "      <td>...</td>\n",
       "      <td>...</td>\n",
       "      <td>...</td>\n",
       "      <td>...</td>\n",
       "      <td>...</td>\n",
       "      <td>...</td>\n",
       "      <td>...</td>\n",
       "      <td>...</td>\n",
       "      <td>...</td>\n",
       "    </tr>\n",
       "    <tr>\n",
       "      <th>4893</th>\n",
       "      <td>6.2</td>\n",
       "      <td>0.21</td>\n",
       "      <td>0.29</td>\n",
       "      <td>1.6</td>\n",
       "      <td>0.039</td>\n",
       "      <td>24.0</td>\n",
       "      <td>92.0</td>\n",
       "      <td>0.99114</td>\n",
       "      <td>3.27</td>\n",
       "      <td>0.50</td>\n",
       "      <td>11.2</td>\n",
       "    </tr>\n",
       "    <tr>\n",
       "      <th>4894</th>\n",
       "      <td>6.6</td>\n",
       "      <td>0.32</td>\n",
       "      <td>0.36</td>\n",
       "      <td>8.0</td>\n",
       "      <td>0.047</td>\n",
       "      <td>57.0</td>\n",
       "      <td>168.0</td>\n",
       "      <td>0.99490</td>\n",
       "      <td>3.15</td>\n",
       "      <td>0.46</td>\n",
       "      <td>9.6</td>\n",
       "    </tr>\n",
       "    <tr>\n",
       "      <th>4895</th>\n",
       "      <td>6.5</td>\n",
       "      <td>0.24</td>\n",
       "      <td>0.19</td>\n",
       "      <td>1.2</td>\n",
       "      <td>0.041</td>\n",
       "      <td>30.0</td>\n",
       "      <td>111.0</td>\n",
       "      <td>0.99254</td>\n",
       "      <td>2.99</td>\n",
       "      <td>0.46</td>\n",
       "      <td>9.4</td>\n",
       "    </tr>\n",
       "    <tr>\n",
       "      <th>4896</th>\n",
       "      <td>5.5</td>\n",
       "      <td>0.29</td>\n",
       "      <td>0.30</td>\n",
       "      <td>1.1</td>\n",
       "      <td>0.022</td>\n",
       "      <td>20.0</td>\n",
       "      <td>110.0</td>\n",
       "      <td>0.98869</td>\n",
       "      <td>3.34</td>\n",
       "      <td>0.38</td>\n",
       "      <td>12.8</td>\n",
       "    </tr>\n",
       "    <tr>\n",
       "      <th>4897</th>\n",
       "      <td>6.0</td>\n",
       "      <td>0.21</td>\n",
       "      <td>0.38</td>\n",
       "      <td>0.8</td>\n",
       "      <td>0.020</td>\n",
       "      <td>22.0</td>\n",
       "      <td>98.0</td>\n",
       "      <td>0.98941</td>\n",
       "      <td>3.26</td>\n",
       "      <td>0.32</td>\n",
       "      <td>11.8</td>\n",
       "    </tr>\n",
       "  </tbody>\n",
       "</table>\n",
       "<p>4898 rows × 11 columns</p>\n",
       "</div>"
      ],
      "text/plain": [
       "      fixed acidity  volatile acidity  citric acid  residual sugar  chlorides  \\\n",
       "0               7.0              0.27         0.36            20.7      0.045   \n",
       "1               6.3              0.30         0.34             1.6      0.049   \n",
       "2               8.1              0.28         0.40             6.9      0.050   \n",
       "3               7.2              0.23         0.32             8.5      0.058   \n",
       "4               7.2              0.23         0.32             8.5      0.058   \n",
       "...             ...               ...          ...             ...        ...   \n",
       "4893            6.2              0.21         0.29             1.6      0.039   \n",
       "4894            6.6              0.32         0.36             8.0      0.047   \n",
       "4895            6.5              0.24         0.19             1.2      0.041   \n",
       "4896            5.5              0.29         0.30             1.1      0.022   \n",
       "4897            6.0              0.21         0.38             0.8      0.020   \n",
       "\n",
       "      free sulfur dioxide  total sulfur dioxide  density    pH  sulphates  \\\n",
       "0                    45.0                 170.0  1.00100  3.00       0.45   \n",
       "1                    14.0                 132.0  0.99400  3.30       0.49   \n",
       "2                    30.0                  97.0  0.99510  3.26       0.44   \n",
       "3                    47.0                 186.0  0.99560  3.19       0.40   \n",
       "4                    47.0                 186.0  0.99560  3.19       0.40   \n",
       "...                   ...                   ...      ...   ...        ...   \n",
       "4893                 24.0                  92.0  0.99114  3.27       0.50   \n",
       "4894                 57.0                 168.0  0.99490  3.15       0.46   \n",
       "4895                 30.0                 111.0  0.99254  2.99       0.46   \n",
       "4896                 20.0                 110.0  0.98869  3.34       0.38   \n",
       "4897                 22.0                  98.0  0.98941  3.26       0.32   \n",
       "\n",
       "      alcohol  \n",
       "0         8.8  \n",
       "1         9.5  \n",
       "2        10.1  \n",
       "3         9.9  \n",
       "4         9.9  \n",
       "...       ...  \n",
       "4893     11.2  \n",
       "4894      9.6  \n",
       "4895      9.4  \n",
       "4896     12.8  \n",
       "4897     11.8  \n",
       "\n",
       "[4898 rows x 11 columns]"
      ]
     },
     "execution_count": 57,
     "metadata": {},
     "output_type": "execute_result"
    }
   ],
   "source": [
    "df = pd.DataFrame(X_newitems_normalized)\n",
    "df.head()\n",
    "\n",
    "X_newitems"
   ]
  },
  {
   "cell_type": "code",
   "execution_count": 15,
   "metadata": {
    "deletable": false,
    "nbgrader": {
     "cell_type": "code",
     "checksum": "8950d35e36c4412f816033179721090b",
     "grade": false,
     "grade_id": "cell-dcf0303572bde9a4",
     "locked": false,
     "schema_version": 3,
     "solution": true
    }
   },
   "outputs": [],
   "source": [
    "# YOUR CODE HERE\n",
    "# raise NotImplementedError()\n",
    "\n",
    "def answer_covariate_shift_c():\n",
    "    result = None\n",
    "    # YOUR CODE HERE\n",
    "#     raise NotImplementedError()\n",
    "\n",
    "    gm = GaussianMixture(n_components=5, random_state=42).fit(X_base_normalized)\n",
    "    \n",
    "    scores = gm.score_samples(X_newitems_normalized)\n",
    "    \n",
    "    result = scores.mean()\n",
    "    \n",
    "    \n",
    "    return result"
   ]
  },
  {
   "cell_type": "code",
   "execution_count": 16,
   "metadata": {
    "deletable": false,
    "editable": false,
    "nbgrader": {
     "cell_type": "code",
     "checksum": "cfd3d4c45f910123a3e13596ff01da5c",
     "grade": true,
     "grade_id": "cell-36c9d4d11835cbb5",
     "locked": true,
     "points": 5,
     "schema_version": 3,
     "solution": false
    }
   },
   "outputs": [],
   "source": [
    "stu_ans = answer_covariate_shift_c()\n",
    "\n",
    "assert isinstance(stu_ans, float), \"Q2c: Your function should return a float.\"\n",
    "\n",
    "del stu_ans"
   ]
  },
  {
   "cell_type": "code",
   "execution_count": 17,
   "metadata": {},
   "outputs": [
    {
     "data": {
      "text/plain": [
       "-17.45202883633905"
      ]
     },
     "execution_count": 17,
     "metadata": {},
     "output_type": "execute_result"
    }
   ],
   "source": [
    "stu_ans = answer_covariate_shift_c()\n",
    "stu_ans"
   ]
  },
  {
   "cell_type": "markdown",
   "metadata": {},
   "source": [
    "### Part 2.d (15 points) Test the original classifier on the new labeled items, and retrain your original classifier by incorporating the new labeled training data.\n",
    "\n",
    "Based on the results of the previous analysis, you decide to retrain your random forest regressor. (You pay a survey firm to get judges who provide the quality scores.)\n",
    "\n",
    "First create a new combined dataset by appending the `newitems` labeled dataset *after* the end of the `base` labeled dataset.\n",
    "\n",
    "Now that you have the new item labels you should compute two numbers here:\n",
    "\n",
    "(i) The score you get when using X_newitems_normalized and y_newitems as the test set with a RandomForest regressor trained on the original base dataset only (no cross-validation, just one run).  This is the regression score you would have gotten on the new items if you hadn't retrained the quality prediction model.\n",
    "\n",
    "(ii) Compute the mean five-fold cross-validation score achieved by a default random forest regressor that uses your updated dataset.\n",
    "\n",
    "Your function should return a tuple with two `float` elements, containing the results of (i) and (ii), in that order.\n",
    "Comparing (i) with (ii), was it worth getting the new labeled data?"
   ]
  },
  {
   "cell_type": "code",
   "execution_count": 18,
   "metadata": {},
   "outputs": [],
   "source": [
    "# Be sure to run this get these labels for the new items!\n",
    "y_newitems = df_newitems.iloc[:, -1]"
   ]
  },
  {
   "cell_type": "code",
   "execution_count": 58,
   "metadata": {
    "deletable": false,
    "nbgrader": {
     "cell_type": "code",
     "checksum": "cb3e6b3b55ebd8ec60f7181651fbac05",
     "grade": false,
     "grade_id": "cell-a80d7fa8ad732a4c",
     "locked": false,
     "schema_version": 3,
     "solution": true
    }
   },
   "outputs": [],
   "source": [
    "# YOUR CODE HERE\n",
    "# raise NotImplementedError()\n",
    "\n",
    "X_newitems = df_newitems.iloc[:, :-1]    # ignore the label for now\n",
    "y_newitems = df_newitems.iloc[:,-1]\n",
    "\n",
    "X_newitems_normalized = StandardScaler().fit_transform(X_newitems)\n",
    "\n",
    "X_final = df_base.append(df_newitems)\n",
    "\n",
    "df2 = pd.DataFrame(X_newitems_normalized)\n",
    "df1 = pd.DataFrame(X_base_normalized)\n",
    "\n",
    "X_final2 = df1.append(df2)\n",
    "\n",
    "# X_final2 = np.append(X_base_normalized,X_newitems_normalized).reshape(-1,1)\n",
    "\n",
    "# X_base_normalized.append(X_newitems_normalized)\n",
    "y_final = y_base.append(y_newitems)\n",
    "\n",
    "# X_final = X_final.iloc[:, :-1]  # take all columns except the last\n",
    "# y_final = X_final.iloc[:, -1]  # take just the last column (the quality score, which is the regression target)\n",
    "\n",
    "# X_final_normalized = StandardScaler().fit_transform(X_final)\n",
    "\n",
    "def answer_covariate_shift_d():\n",
    "    result = None\n",
    "    # YOUR CODE HERE\n",
    "#     raise NotImplementedError()\n",
    "\n",
    "    regr = RandomForestRegressor(random_state = 42)\n",
    "    regr.fit(X_base_normalized, y_base)\n",
    "    \n",
    "    score1 = regr.score(X_newitems_normalized, y_newitems)\n",
    "    \n",
    "    regr = RandomForestRegressor(random_state = 42)\n",
    "    regr.fit(X_final2, y_final)\n",
    "    \n",
    "    scores = cross_val_score(regr, X_final2, y_final, cv=5)\n",
    "    \n",
    "    score2 = scores.mean()\n",
    "    \n",
    "    result = (score1, score2)\n",
    "    return result"
   ]
  },
  {
   "cell_type": "code",
   "execution_count": 20,
   "metadata": {
    "deletable": false,
    "editable": false,
    "nbgrader": {
     "cell_type": "code",
     "checksum": "5f2d16f642785b73e5cba9c3edcff0f8",
     "grade": true,
     "grade_id": "cell-c011280a8630d5c3",
     "locked": true,
     "points": 15,
     "schema_version": 3,
     "solution": false
    }
   },
   "outputs": [],
   "source": [
    "stu_ans = answer_covariate_shift_d()\n",
    "\n",
    "assert isinstance(stu_ans, tuple), \"Q2d: Your function should return a tuple.\"\n",
    "assert len(stu_ans) == 2, \"Q2d: Your tuple should have two floats.\"\n",
    "assert isinstance(stu_ans[0], float), \"Q2d: Element 0 should be a float.\"\n",
    "assert isinstance(stu_ans[1], float), \"Q2d: Element 1 should be a float.\"\n",
    "\n",
    "del stu_ans"
   ]
  },
  {
   "cell_type": "code",
   "execution_count": 59,
   "metadata": {},
   "outputs": [
    {
     "data": {
      "text/plain": [
       "(0.04764901800696186, 0.28193821414596937)"
      ]
     },
     "execution_count": 59,
     "metadata": {},
     "output_type": "execute_result"
    }
   ],
   "source": [
    "stu_ans = answer_covariate_shift_d()\n",
    "stu_ans"
   ]
  },
  {
   "cell_type": "markdown",
   "metadata": {},
   "source": [
    "#### Question 2 helper code: You can use this plotting code to compare visually the distributions of the base and newitems datasets to get more intuition about how they might differ."
   ]
  },
  {
   "cell_type": "code",
   "execution_count": 22,
   "metadata": {},
   "outputs": [],
   "source": [
    "from matplotlib.colors import ListedColormap, BoundaryNorm\n",
    "import matplotlib.patches as mpatches\n",
    "def plot_labelled_scatterT(X, y, class_labels):\n",
    "    num_labels = len(class_labels)\n",
    "\n",
    "    x_min, x_max = X[:, 0].min() - 1, X[:, 0].max() + 1\n",
    "    y_min, y_max = X[:, 1].min() - 1, X[:, 1].max() + 1\n",
    "\n",
    "    marker_array = ['o', '^', '*']\n",
    "    color_array = ['#FFFF00', '#00AAFF', '#000000', '#FF00AA', \"#00FF00\", \"#FFFFAA\", \"#0000FF\", \"#AAAA00\", \"#00AAAA\"]\n",
    "    cmap_bold = ListedColormap(color_array)\n",
    "    bnorm = BoundaryNorm(np.arange(0, num_labels + 1, 1), ncolors=num_labels)\n",
    "    plt.figure()\n",
    "\n",
    "    plt.scatter(X[:, 0], X[:, 1], s=65, c=y, cmap=cmap_bold, norm = bnorm, alpha = 0.40, edgecolor='black', lw = 1)\n",
    "\n",
    "    plt.xlim(x_min, x_max)\n",
    "    plt.ylim(y_min, y_max)\n",
    "\n",
    "    h = []\n",
    "    for c in range(0, num_labels):\n",
    "        h.append(mpatches.Patch(color=color_array[c], label=class_labels[c]))\n",
    "    plt.legend(handles=h)\n",
    "\n",
    "    plt.show()"
   ]
  },
  {
   "cell_type": "code",
   "execution_count": 24,
   "metadata": {},
   "outputs": [
    {
     "data": {
      "image/png": "[encoded data removed]",
      "text/plain": [
       "<Figure size 432x288 with 1 Axes>"
      ]
     },
     "metadata": {
      "needs_background": "light"
     },
     "output_type": "display_data"
    }
   ],
   "source": [
    "# Question 2: You can use MDS to visualize the base and newitems distributions\n",
    "# This is one way to quickly check for the possibility of covariate shift.\n",
    "\n",
    "from sklearn.preprocessing import StandardScaler\n",
    "from sklearn.manifold import MDS\n",
    "\n",
    "X_binary = np.vstack((X_base_normalized, X_newitems_normalized))\n",
    "y_binary = np.concatenate((np.ones(y_base.shape[0]) - 1, np.ones(y_newitems.shape[0])))\n",
    "\n",
    "# Subsample just a part of the original data for efficiency reasons with MDS\n",
    "sample = np.random.choice(X_binary.shape[0], 500, replace=False)\n",
    "\n",
    "dr = MDS(n_components = 2, random_state = 42)\n",
    "X_low = dr.fit_transform(X_binary[sample])\n",
    "\n",
    "plot_labelled_scatterT(X_low, y_binary[sample], ['1: base', '2: newitems'])"
   ]
  },
  {
   "cell_type": "markdown",
   "metadata": {},
   "source": [
    "### Question 3. (25 points) Imputing missing values \n",
    "\n",
    "In addition to trying to infer missing *labels* with semi-supervised learning, we can use the Imputer classes of sklearn to fill in missing *values* of the *features*. In this question, you'll use the same dataset as in Question 1, but will look more closely at the process of imputing missing values. Please refer to the week 4 reading, notebook and data imputation lecture for examples of code on how to use an Imputer class (including optionally tied to a Regression class via a pipeline object). \n",
    "\n",
    "**Set random_state = 42 for any estimator or other sklearn object that takes it as a parameter.**"
   ]
  },
  {
   "cell_type": "code",
   "execution_count": 27,
   "metadata": {},
   "outputs": [],
   "source": [
    "# Run this code before proceeding.\n",
    "# Please note it makes a copy of the original data and does not modify the originals.\n",
    "\n",
    "CV_SPLITS = 5\n",
    "rng = np.random.RandomState(0)\n",
    "\n",
    "### Load the full dataset\n",
    "from sklearn.datasets import load_breast_cancer\n",
    "(X_full_raw, y_full) = load_breast_cancer(return_X_y = True)\n",
    "\n",
    "\n",
    "### Now we create new subset datasets X_full and X_missing with just two features\n",
    "### for purposes of this question. Random values in X_missing will be marked with NaN,\n",
    "### (although for those who look closely at the code, you'll see the missingness will\n",
    "### not necessarily be completely at random, which will become important later!)\n",
    "X_full = X_full_raw[:, (14, 25)] \n",
    "\n",
    "# We create a train/test split although this is for internal statistical reasons \n",
    "# and the split will not be used in the questions themselves.\n",
    "X_train, X_test, y_train, y_test = train_test_split(X_full, y_full, random_state = 0)\n",
    "\n",
    "mu = X_train.mean(axis = 0)\n",
    "MU_WIDTH = 2\n",
    "\n",
    "n_samples = X_train.shape[0]\n",
    "X_train_missing = X_train.copy()\n",
    "u = rng.uniform(low=mu[0], high=mu[0]*MU_WIDTH, size=(n_samples,))\n",
    "X_train_missing[np.where(u < X_train[:,0])[0], 0] = np.nan\n",
    "u = rng.uniform(low=mu[1], high=mu[1]*MU_WIDTH, size=(n_samples,))\n",
    "X_train_missing[np.where(u < X_train[:,1])[0], 1] = np.nan\n",
    "\n",
    "n_samples = X_test.shape[0]\n",
    "mu = X_test.mean(axis = 0)\n",
    "X_test_missing = X_test.copy()\n",
    "u = rng.uniform(low=mu[0], high=mu[0]*MU_WIDTH, size=(n_samples,))\n",
    "X_test_missing [np.where(u < X_test[:, 0])[0], 0] = np.nan\n",
    "u = rng.uniform(low=mu[1], high=mu[1]*MU_WIDTH, size=(n_samples,))\n",
    "X_test_missing [np.where(u < X_test[:, 1])[0], 1] = np.nan\n",
    "\n",
    "## The final \"missing data\" version of the full dataset:\n",
    "X_missing = np.vstack((X_train_missing, X_test_missing))\n",
    "y_missing = np.append(y_train, y_test)\n",
    "\n",
    "# For the next questions:\n",
    "# - use X_full for \"the full dataset\" \n",
    "# - use X_missing & y_missing for the missing values dataset: this contains random np.nan values"
   ]
  },
  {
   "cell_type": "markdown",
   "metadata": {},
   "source": [
    "### Part 3.a (5 points) Establish a full data prediction baseline.\n",
    "With the full dataset X_full, y_full, and using LogisticRegression with default parameters, write a function to compute the mean five-fold cross-validation classifier score on the full dataset. Return that result as a single float."
   ]
  },
  {
   "cell_type": "code",
   "execution_count": 31,
   "metadata": {
    "deletable": false,
    "nbgrader": {
     "cell_type": "code",
     "checksum": "a7af58e142b96b0ddf769c2fb11fc752",
     "grade": false,
     "grade_id": "cell-a1ebb9bf2bee0194",
     "locked": false,
     "schema_version": 3,
     "solution": true
    }
   },
   "outputs": [],
   "source": [
    "# YOUR CODE HERE\n",
    "# raise NotImplementedError()\n",
    "from sklearn.linear_model import LogisticRegression\n",
    "\n",
    "def answer_imputation_a():\n",
    "    result = None\n",
    "    # YOUR CODE HERE\n",
    "#     raise NotImplementedError()\n",
    "\n",
    "    clf = LogisticRegression(random_state = 42).fit(X_full, y_full)\n",
    "    \n",
    "    scores = cross_val_score(clf, X_full, y_full, cv=5)\n",
    "    \n",
    "    result = scores.mean()\n",
    "\n",
    "\n",
    "    return result"
   ]
  },
  {
   "cell_type": "code",
   "execution_count": 32,
   "metadata": {
    "deletable": false,
    "editable": false,
    "nbgrader": {
     "cell_type": "code",
     "checksum": "42f8beb60143b0925bbb99a0650bebde",
     "grade": true,
     "grade_id": "cell-312a3feb6621676c",
     "locked": true,
     "points": 5,
     "schema_version": 3,
     "solution": false
    }
   },
   "outputs": [],
   "source": [
    "stu_ans = answer_imputation_a()\n",
    "\n",
    "assert isinstance(stu_ans, float), \"Q3a: Your function should return a float.\"\n",
    "\n",
    "del stu_ans"
   ]
  },
  {
   "cell_type": "code",
   "execution_count": 30,
   "metadata": {},
   "outputs": [
    {
     "data": {
      "text/plain": [
       "0.7890855457227139"
      ]
     },
     "execution_count": 30,
     "metadata": {},
     "output_type": "execute_result"
    }
   ],
   "source": [
    "stu_ans = answer_imputation_a()\n",
    "stu_ans"
   ]
  },
  {
   "cell_type": "markdown",
   "metadata": {},
   "source": [
    "### Part 3.b. (10 points) Use simple imputation, with and without adding indicator variables.\n",
    "\n",
    "Not only will a scikit-learn Imputer object fill in the missing values of the input dataset, but setting the Imputer option `add_indicator=True` will cause extra binary indicator features to be added to the imputed dataset: a set of binary variables, one per original feature, for remembering which features *in that row* were imputed. Why would this be useful?  It's useful because if the values are *not* missing completely at random and e.g. are related to the range of a variable -- for example, if people with higher incomes are less likely to reveal them in a survey -- then by adding these extra binary features, the classifier has at least a chance for learning something about the relationship of how the 'missingness' might relate to the target value. In other words, the very fact that a value is missing can tell the classifier at least something potentially about its range or distribution, which might be useful for learning. \n",
    "\n",
    "In case you're curious, we have designed a \"missing not completely at random\" (i.e conditionally random) dataset below based on the mean value in each column: the likelihood of a missing value increases with the variable magnitude. \n",
    "\n",
    "The purpose of this question is to see what the effect is on classifier accuracy in such a scenario from setting add_indicator = True to add those extra binary indicator features. (It's instructive to take a look at the output of the Imputer object on your own to see how the indicator variables are added in response to missing values.)\n",
    "\n",
    "Write a function that:\n",
    "\n",
    "(i)  Uses a SimpleImputer with parameters `missing_values = np.nan`, mean imputation strategy, and `add_indicator = False`, using a pipeline to connect the SimpleImputer to a LogisticRegression classifier with default parameters. With this composite pipeline estimator, compute the mean five-fold cross-validation classifier score on the X_missing dataset.\n",
    "\n",
    "(ii) Runs exactly the same steps as above, but with the SimpleImputer's parameter `add_indicator = True`.\n",
    "\n",
    "Your function should return a tuple of two floats: the results of (i) and (ii) in that order."
   ]
  },
  {
   "cell_type": "code",
   "execution_count": 43,
   "metadata": {
    "deletable": false,
    "nbgrader": {
     "cell_type": "code",
     "checksum": "2550900ff4d6f803a674bc666d38dea4",
     "grade": false,
     "grade_id": "cell-b6083ec014bcb5bb",
     "locked": false,
     "schema_version": 3,
     "solution": true
    }
   },
   "outputs": [],
   "source": [
    "# YOUR CODE HERE\n",
    "# raise NotImplementedError()\n",
    "from sklearn.experimental import enable_iterative_imputer\n",
    "from sklearn.impute import SimpleImputer, IterativeImputer, KNNImputer\n",
    "from sklearn.model_selection import cross_val_score\n",
    "from sklearn.pipeline import make_pipeline\n",
    "\n",
    "\n",
    "def answer_imputation_b():\n",
    "    result = None\n",
    "    regressor = LogisticRegression(random_state = 42)\n",
    "    CV_SPLITS = 5\n",
    "#     score_type = 'r2'\n",
    "    \n",
    "    # YOUR CODE HERE\n",
    "#     raise NotImplementedError()\n",
    "\n",
    "    def get_scores_using_imputer(regressor, imputer,\n",
    "                           X_missing, y_missing):\n",
    "        estimator = make_pipeline(imputer, regressor)\n",
    "        impute_scores = cross_val_score(estimator, X_missing, y_missing,\n",
    "                                    cv=CV_SPLITS)\n",
    "        return impute_scores\n",
    "\n",
    "    imputer = SimpleImputer(missing_values=np.nan, strategy=\"mean\",\n",
    "                            add_indicator=False)\n",
    "    mean_impute_scores = get_scores_using_imputer(regressor, imputer, X_missing, y_missing)\n",
    "    \n",
    "    result1 = mean_impute_scores.mean()\n",
    "    \n",
    "    imputer = SimpleImputer(missing_values=np.nan, strategy=\"mean\",\n",
    "                            add_indicator=True)\n",
    "    mean_impute_scores = get_scores_using_imputer(regressor, imputer, X_missing, y_missing)\n",
    "    \n",
    "    result2 = mean_impute_scores.mean()\n",
    "    \n",
    "    result = (result1,result2)\n",
    "    \n",
    "\n",
    "    return result"
   ]
  },
  {
   "cell_type": "code",
   "execution_count": 45,
   "metadata": {
    "deletable": false,
    "editable": false,
    "nbgrader": {
     "cell_type": "code",
     "checksum": "2c39fc0b3360a49a41f42265660cce76",
     "grade": true,
     "grade_id": "cell-c5dad89521575d17",
     "locked": true,
     "points": 10,
     "schema_version": 3,
     "solution": false
    }
   },
   "outputs": [],
   "source": [
    "stu_ans = answer_imputation_b()\n",
    "\n",
    "assert isinstance(stu_ans, tuple), \"Q3b: Your function should return a tuple.\"\n",
    "assert len(stu_ans) == 2, \"Q3b: Your tuple should have two floats.\"\n",
    "assert isinstance(stu_ans[0], float), \"Q3b: Element 0 should be a float.\"\n",
    "assert isinstance(stu_ans[1], float), \"Q3b: Element 1 should be a float.\"\n",
    "\n",
    "del stu_ans"
   ]
  },
  {
   "cell_type": "code",
   "execution_count": 44,
   "metadata": {},
   "outputs": [
    {
     "data": {
      "text/plain": [
       "(0.6765719608756404, 0.7627387051700046)"
      ]
     },
     "execution_count": 44,
     "metadata": {},
     "output_type": "execute_result"
    }
   ],
   "source": [
    "stu_ans = answer_imputation_b()\n",
    "stu_ans"
   ]
  },
  {
   "cell_type": "markdown",
   "metadata": {},
   "source": [
    "### Part 3.c (10 points) Run iterative imputation with indicator variables.\n",
    "\n",
    "Write a function that uses code very similar to the one you created in the previous step, but modified to use an IterativeImputer class, with the estimator property set to `DecisionTreeRegressor(random_state = 42)' so that it will use regression trees to perform the imputation. This custom estimator property is one example of the IterativeImputer's flexibility. Set add_indicator = True to add the extra imputation indicator features for the LogisticRegression classifier (default settings). Compute the mean five-fold cross-validation classifier score on the X_missing dataset and return that from your function."
   ]
  },
  {
   "cell_type": "code",
   "execution_count": 52,
   "metadata": {
    "deletable": false,
    "nbgrader": {
     "cell_type": "code",
     "checksum": "3d29dfc0c62bcb4de3738e171ccb6fbb",
     "grade": false,
     "grade_id": "cell-3a06c869fbaeb3d8",
     "locked": false,
     "schema_version": 3,
     "solution": true
    }
   },
   "outputs": [],
   "source": [
    "# YOUR CODE HERE\n",
    "# raise NotImplementedError()\n",
    "from sklearn.tree import DecisionTreeRegressor\n",
    "\n",
    "def answer_imputation_c():\n",
    "    result = None\n",
    "    regressor = LogisticRegression(random_state = 42)\n",
    "    CV_SPLITS = 5\n",
    "    # YOUR CODE HERE\n",
    "#     raise NotImplementedError()\n",
    "\n",
    "    def get_scores_using_imputer(regressor, imputer,\n",
    "                           X_missing, y_missing):\n",
    "        estimator = make_pipeline(imputer, regressor)\n",
    "        impute_scores = cross_val_score(estimator, X_missing, y_missing,\n",
    "                                    cv=CV_SPLITS)\n",
    "        return impute_scores\n",
    "\n",
    "    imputer = IterativeImputer(missing_values=np.nan, add_indicator=True,\n",
    "                               random_state=42,\n",
    "                               estimator = DecisionTreeRegressor())\n",
    "    iterative_impute_scores = get_scores_using_imputer(regressor, imputer,\n",
    "                                                     X_missing,\n",
    "                                                     y_missing)\n",
    "    result = iterative_impute_scores.mean()\n",
    "\n",
    "\n",
    "    return result"
   ]
  },
  {
   "cell_type": "code",
   "execution_count": 54,
   "metadata": {
    "deletable": false,
    "editable": false,
    "nbgrader": {
     "cell_type": "code",
     "checksum": "d4379f5cd1706e9bf0e633053eb6b683",
     "grade": true,
     "grade_id": "cell-2f75adf88cde04cd",
     "locked": true,
     "points": 10,
     "schema_version": 3,
     "solution": false
    }
   },
   "outputs": [],
   "source": [
    "stu_ans = answer_imputation_c()\n",
    "\n",
    "assert isinstance(stu_ans, float), \"Q3c: Your function should return a float.\"\n",
    "\n",
    "del stu_ans"
   ]
  },
  {
   "cell_type": "code",
   "execution_count": 53,
   "metadata": {},
   "outputs": [
    {
     "data": {
      "text/plain": [
       "0.7609843192050924"
      ]
     },
     "execution_count": 53,
     "metadata": {},
     "output_type": "execute_result"
    }
   ],
   "source": [
    "stu_ans = answer_imputation_c()\n",
    "stu_ans"
   ]
  }
 ],
 "metadata": {
  "coursera": {
   "schema_names": [
    "mads_unsupervised_learning_v1_assignment4"
   ]
  },
  "kernelspec": {
   "display_name": "Python 3 (ipykernel)",
   "language": "python",
   "name": "python3"
  },
  "language_info": {
   "codemirror_mode": {
    "name": "ipython",
    "version": 3
   },
   "file_extension": ".py",
   "mimetype": "text/x-python",
   "name": "python",
   "nbconvert_exporter": "python",
   "pygments_lexer": "ipython3",
   "version": "3.8.10"
  }
 },
 "nbformat": 4,
 "nbformat_minor": 2
}
