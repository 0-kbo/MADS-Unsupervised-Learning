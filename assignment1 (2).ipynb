{
 "cells": [
  {
   "cell_type": "code",
   "execution_count": 1,
   "metadata": {
    "deletable": false,
    "editable": false,
    "nbgrader": {
     "cell_type": "code",
     "checksum": "0cc36200c222f837c7ab1ecbb884624d",
     "grade": false,
     "grade_id": "cell-f5daeeabbd83bdfe",
     "locked": true,
     "schema_version": 3,
     "solution": false
    }
   },
   "outputs": [],
   "source": [
    "version = \"REPLACE_PACKAGE_VERSION\""
   ]
  },
  {
   "cell_type": "markdown",
   "metadata": {
    "deletable": false,
    "editable": false,
    "nbgrader": {
     "cell_type": "markdown",
     "checksum": "2335b9d02f5968b244859a39b7a72e90",
     "grade": false,
     "grade_id": "cell-5e2ebc16cee71962",
     "locked": true,
     "schema_version": 3,
     "solution": false
    }
   },
   "source": [
    "# SIADS 543 Assignment 1: Introduction to Unsupervised Learning\n",
    "\n",
    "In this week's assignment you'll gain experience applying dimensionality reduction, manifold learning and density estimation techniques. With these examples, you'll see how they can help gain insights into new datasets and extract potential new features for additional machine learning steps such as clustering or training a classifier.\n",
    "\n",
    "*Please note that for autograder messages that check a list, it will typically report any problems using a list index starting at zero, i.e. the first list element is called \"element 0\".*"
   ]
  },
  {
   "cell_type": "code",
   "execution_count": 2,
   "metadata": {
    "deletable": false,
    "editable": false,
    "nbgrader": {
     "cell_type": "code",
     "checksum": "55eaacc7d8f78a851e665096c575a6f4",
     "grade": false,
     "grade_id": "cell-3ed33675af0750b8",
     "locked": true,
     "schema_version": 3,
     "solution": false
    }
   },
   "outputs": [],
   "source": [
    "# First import some necessary libraries \n",
    "import numpy as np\n",
    "import pandas as pd\n",
    "import seaborn as sns\n",
    "import matplotlib.pyplot as plt\n",
    "%matplotlib inline\n",
    "\n",
    "# Suppress all warnings\n",
    "import warnings\n",
    "warnings.filterwarnings('ignore')\n",
    "\n",
    "np.set_printoptions(precision = 3)\n",
    "\n",
    "heart_dataset = './assets/mads_SAHeart.csv'\n",
    "beer_dataset  = './assets/beer2.csv'"
   ]
  },
  {
   "cell_type": "markdown",
   "metadata": {
    "deletable": false,
    "editable": false,
    "nbgrader": {
     "cell_type": "markdown",
     "checksum": "edbcefcfd09d15b336f066d65628f28a",
     "grade": false,
     "grade_id": "cell-a7a9c172773e4199",
     "locked": true,
     "schema_version": 3,
     "solution": false
    }
   },
   "source": [
    "## Question 1.  Principal Components Analysis (40 points)\n",
    "\n",
    "In this question you'll use PCA to explore a new dataset of beer ratings and reviews. The goal is to gain experience using PCA and related tools such as a biplot to get insights into the data, especially how ratings can be explained via a smaller number of latent factors.\n",
    "\n",
    "Each row of the dataset corresponds to one beer review. \n",
    "\n",
    "Each beer is reviewed on a scale from 1 to 5 using these variables:\n",
    "\n",
    "`review_appearance` :: How appealing is the color, clarity of the beer?\n",
    "\n",
    "`review_aroma` :: How appealing is the aroma?\n",
    "\n",
    "`review_palate` :: How appealing is the \"palate\": the combination of carbonation, mouthfeel, alcohol profile and texture? \n",
    "\n",
    "`review_taste` :: How appealing is the taste - e.g. is there a good balance of sweet and bitter?\n",
    "\n",
    "`review_overall` :: How appealing is the overall experience of drinking this beer?\n",
    "\n",
    "Each beer record also has several other columns, the most important of which are:\n",
    "\n",
    "`beer_index` :: unique row number for each beer\n",
    "\n",
    "`beer_name` :: the name of the specific beer product (note there may be multiple reviews/row for a specific beer name)\n",
    "\n",
    "`abv` :: alcohol by volume\n",
    "\n",
    "There are also columns with brewery name, accompanying review text, etc. although these won't be used for this question. We provided the initial code below to read in the dataset using pandas.\n"
   ]
  },
  {
   "cell_type": "code",
   "execution_count": 3,
   "metadata": {
    "deletable": false,
    "editable": false,
    "nbgrader": {
     "cell_type": "code",
     "checksum": "8df004d076f15557346ada23e24149b6",
     "grade": false,
     "grade_id": "cell-206e1324baa4677f",
     "locked": true,
     "schema_version": 3,
     "solution": false
    }
   },
   "outputs": [
    {
     "data": {
      "text/html": [
       "<div>\n",
       "<style scoped>\n",
       "    .dataframe tbody tr th:only-of-type {\n",
       "        vertical-align: middle;\n",
       "    }\n",
       "\n",
       "    .dataframe tbody tr th {\n",
       "        vertical-align: top;\n",
       "    }\n",
       "\n",
       "    .dataframe thead th {\n",
       "        text-align: right;\n",
       "    }\n",
       "</style>\n",
       "<table border=\"1\" class=\"dataframe\">\n",
       "  <thead>\n",
       "    <tr style=\"text-align: right;\">\n",
       "      <th></th>\n",
       "      <th>beer_index</th>\n",
       "      <th>abv</th>\n",
       "      <th>beer_id</th>\n",
       "      <th>brewer_id</th>\n",
       "      <th>beer_name</th>\n",
       "      <th>beer_style</th>\n",
       "      <th>review_appearance</th>\n",
       "      <th>review_aroma</th>\n",
       "      <th>review_overall</th>\n",
       "      <th>review_palate</th>\n",
       "      <th>profile_name</th>\n",
       "      <th>review_taste</th>\n",
       "      <th>text</th>\n",
       "      <th>time</th>\n",
       "    </tr>\n",
       "  </thead>\n",
       "  <tbody>\n",
       "    <tr>\n",
       "      <th>0</th>\n",
       "      <td>0</td>\n",
       "      <td>7.0</td>\n",
       "      <td>2511</td>\n",
       "      <td>287</td>\n",
       "      <td>Bell's Cherry Stout</td>\n",
       "      <td>American Stout</td>\n",
       "      <td>4.5</td>\n",
       "      <td>4.0</td>\n",
       "      <td>4.5</td>\n",
       "      <td>4.0</td>\n",
       "      <td>blaheath</td>\n",
       "      <td>4.5</td>\n",
       "      <td>Batch 8144\\tPitch black in color with a 1/2 f...</td>\n",
       "      <td>10/5/2009 21:31</td>\n",
       "    </tr>\n",
       "    <tr>\n",
       "      <th>1</th>\n",
       "      <td>1</td>\n",
       "      <td>5.7</td>\n",
       "      <td>19736</td>\n",
       "      <td>9790</td>\n",
       "      <td>Duck-Rabbit Porter</td>\n",
       "      <td>American Porter</td>\n",
       "      <td>4.5</td>\n",
       "      <td>4.0</td>\n",
       "      <td>4.5</td>\n",
       "      <td>4.0</td>\n",
       "      <td>GJ40</td>\n",
       "      <td>4.0</td>\n",
       "      <td>Sampled from a 12oz bottle in a standard pint...</td>\n",
       "      <td>10/5/2009 21:32</td>\n",
       "    </tr>\n",
       "    <tr>\n",
       "      <th>2</th>\n",
       "      <td>2</td>\n",
       "      <td>4.8</td>\n",
       "      <td>11098</td>\n",
       "      <td>3182</td>\n",
       "      <td>Fürstenberg Premium Pilsener</td>\n",
       "      <td>German Pilsener</td>\n",
       "      <td>4.0</td>\n",
       "      <td>3.0</td>\n",
       "      <td>3.0</td>\n",
       "      <td>3.0</td>\n",
       "      <td>biegaman</td>\n",
       "      <td>3.5</td>\n",
       "      <td>Haystack yellow with an energetic group of bu...</td>\n",
       "      <td>10/5/2009 21:32</td>\n",
       "    </tr>\n",
       "    <tr>\n",
       "      <th>3</th>\n",
       "      <td>3</td>\n",
       "      <td>9.5</td>\n",
       "      <td>28577</td>\n",
       "      <td>3818</td>\n",
       "      <td>Unearthly (Imperial India Pale Ale)</td>\n",
       "      <td>American Double / Imperial IPA</td>\n",
       "      <td>4.0</td>\n",
       "      <td>4.0</td>\n",
       "      <td>4.0</td>\n",
       "      <td>4.0</td>\n",
       "      <td>nick76</td>\n",
       "      <td>4.0</td>\n",
       "      <td>The aroma has pine, wood, citrus, caramel, an...</td>\n",
       "      <td>10/5/2009 21:32</td>\n",
       "    </tr>\n",
       "    <tr>\n",
       "      <th>4</th>\n",
       "      <td>4</td>\n",
       "      <td>5.8</td>\n",
       "      <td>398</td>\n",
       "      <td>119</td>\n",
       "      <td>Wolaver's Pale Ale</td>\n",
       "      <td>American Pale Ale (APA)</td>\n",
       "      <td>4.0</td>\n",
       "      <td>3.0</td>\n",
       "      <td>4.0</td>\n",
       "      <td>3.5</td>\n",
       "      <td>champ103</td>\n",
       "      <td>3.0</td>\n",
       "      <td>A: Pours a slightly hazy golden/orange color....</td>\n",
       "      <td>10/5/2009 21:33</td>\n",
       "    </tr>\n",
       "  </tbody>\n",
       "</table>\n",
       "</div>"
      ],
      "text/plain": [
       "   beer_index  abv  beer_id  brewer_id                            beer_name  \\\n",
       "0           0  7.0     2511        287                  Bell's Cherry Stout   \n",
       "1           1  5.7    19736       9790                   Duck-Rabbit Porter   \n",
       "2           2  4.8    11098       3182         Fürstenberg Premium Pilsener   \n",
       "3           3  9.5    28577       3818  Unearthly (Imperial India Pale Ale)   \n",
       "4           4  5.8      398        119                   Wolaver's Pale Ale   \n",
       "\n",
       "                       beer_style  review_appearance  review_aroma  \\\n",
       "0                  American Stout                4.5           4.0   \n",
       "1                 American Porter                4.5           4.0   \n",
       "2                 German Pilsener                4.0           3.0   \n",
       "3  American Double / Imperial IPA                4.0           4.0   \n",
       "4         American Pale Ale (APA)                4.0           3.0   \n",
       "\n",
       "   review_overall  review_palate profile_name  review_taste  \\\n",
       "0             4.5            4.0     blaheath           4.5   \n",
       "1             4.5            4.0         GJ40           4.0   \n",
       "2             3.0            3.0     biegaman           3.5   \n",
       "3             4.0            4.0       nick76           4.0   \n",
       "4             4.0            3.5     champ103           3.0   \n",
       "\n",
       "                                                text             time  \n",
       "0   Batch 8144\\tPitch black in color with a 1/2 f...  10/5/2009 21:31  \n",
       "1   Sampled from a 12oz bottle in a standard pint...  10/5/2009 21:32  \n",
       "2   Haystack yellow with an energetic group of bu...  10/5/2009 21:32  \n",
       "3   The aroma has pine, wood, citrus, caramel, an...  10/5/2009 21:32  \n",
       "4   A: Pours a slightly hazy golden/orange color....  10/5/2009 21:33  "
      ]
     },
     "execution_count": 3,
     "metadata": {},
     "output_type": "execute_result"
    }
   ],
   "source": [
    "df = pd.read_csv(beer_dataset)\n",
    "df = df.dropna()\n",
    "df.head()"
   ]
  },
  {
   "cell_type": "markdown",
   "metadata": {
    "deletable": false,
    "editable": false,
    "nbgrader": {
     "cell_type": "markdown",
     "checksum": "b50d9abf7ea3e61fbd3ecf47f4908f03",
     "grade": false,
     "grade_id": "cell-600814ea9bc3ddd2",
     "locked": true,
     "schema_version": 3,
     "solution": false
    }
   },
   "source": [
    "### 1a. Prepare the data (10 points) using the following steps:\n",
    "\n",
    "1. Starting with the \"df\" dataframe above, first create a new dataframe that selects only the following columns: \n",
    "\n",
    "`beer_name`\n",
    "\n",
    "`review_appearance` \n",
    "\n",
    "`review_aroma` \n",
    "\n",
    "`review_palate` \n",
    "\n",
    "`review_taste` \n",
    "\n",
    "`review_overall`\n",
    "\n",
    "2. Since some specific beers have multiple reviews,  group by the `beer_name` field and collapse all reviews for the beer into a single row with the mean review scores for each beer.\n",
    "\n",
    "3. Next, correctly prepare this new grouped dataset for PCA by applying standard normalization (StandardScaler, with default parameters). As a reminder, after this normalization, for a given variable, (a) columns will be centred to have a mean of zero: values that are above the column mean will be greater than zero, and values that are below the mean will be less than zero. (b) all values will also be normalized to have a standard deviation of 1.\n",
    "\n",
    "Return the numpy array that is output from your normalization step. It should have shape (N, 5) where N is the number of rows after grouping."
   ]
  },
  {
   "cell_type": "code",
   "execution_count": 4,
   "metadata": {
    "deletable": false,
    "nbgrader": {
     "cell_type": "code",
     "checksum": "98bbb2768ed0ac80f32ba60480b4c917",
     "grade": false,
     "grade_id": "cell-39869f6c3ec5fdb2",
     "locked": false,
     "schema_version": 3,
     "solution": true
    }
   },
   "outputs": [],
   "source": [
    "from sklearn.preprocessing import StandardScaler\n",
    "\n",
    "feature_names = ['review_appearance', 'review_aroma', 'review_palate', 'review_taste', 'review_overall']\n",
    "new_cols = feature_names.copy()\n",
    "\n",
    "new_cols.append('beer_name')\n",
    "\n",
    "def answer_pca_a():\n",
    "    \n",
    "    result = None\n",
    "    \n",
    "    new_df = df[new_cols]\n",
    "    \n",
    "    new_df = new_df.groupby('beer_name').mean()\n",
    "    \n",
    "#     new_df = new_df[feature_names]\n",
    "    \n",
    "    result = StandardScaler().fit(new_df[feature_names]).transform(new_df[feature_names])\n",
    "    \n",
    "    \n",
    "        \n",
    "    # YOUR CODE HERE\n",
    "#     raise NotImplementedError()\n",
    "    \n",
    "    return result"
   ]
  },
  {
   "cell_type": "code",
   "execution_count": 5,
   "metadata": {},
   "outputs": [
    {
     "data": {
      "text/plain": [
       "['review_appearance',\n",
       " 'review_aroma',\n",
       " 'review_palate',\n",
       " 'review_taste',\n",
       " 'review_overall',\n",
       " 'beer_name']"
      ]
     },
     "execution_count": 5,
     "metadata": {},
     "output_type": "execute_result"
    }
   ],
   "source": [
    "new_cols"
   ]
  },
  {
   "cell_type": "code",
   "execution_count": 6,
   "metadata": {},
   "outputs": [
    {
     "data": {
      "text/plain": [
       "(7846, 5)"
      ]
     },
     "execution_count": 6,
     "metadata": {},
     "output_type": "execute_result"
    }
   ],
   "source": [
    "stu_ans = answer_pca_a()\n",
    "stu_ans.shape"
   ]
  },
  {
   "cell_type": "code",
   "execution_count": 7,
   "metadata": {
    "deletable": false,
    "editable": false,
    "nbgrader": {
     "cell_type": "code",
     "checksum": "449a70645365feb01fb440f8864029ec",
     "grade": true,
     "grade_id": "cell-12ae4586bb89e123",
     "locked": true,
     "points": 10,
     "schema_version": 3,
     "solution": false
    }
   },
   "outputs": [],
   "source": [
    "stu_ans = answer_pca_a()\n",
    "\n",
    "assert isinstance(stu_ans, np.ndarray), \"Q1a: Your function should return an np.ndarray. \"\n",
    "assert stu_ans.shape[1] == 5, \"Q1a: Your returned ndarray has an incorrect number of columns. \"\n",
    "assert np.isclose(np.mean(stu_ans, axis=0), 0.0).all(), \"Q1a: The columns of your returned ndarray should have a zero mean. \"\n",
    "assert np.isclose(np.std(stu_ans, axis=0), 1.0).all(), \"Q1a: The columns of your returned ndarray should have a unit std. \"\n",
    "\n",
    "# Some hidden tests\n",
    "\n",
    "del stu_ans"
   ]
  },
  {
   "cell_type": "markdown",
   "metadata": {
    "deletable": false,
    "editable": false,
    "nbgrader": {
     "cell_type": "markdown",
     "checksum": "9a5c3fe6e57774968249fb2af869fdfe",
     "grade": false,
     "grade_id": "cell-251634c66127861b",
     "locked": true,
     "schema_version": 3,
     "solution": false
    }
   },
   "source": [
    "### 1b. Highest-rated beers (10 points).\n",
    "\n",
    "Which beers have the highest `review_overall` score?  You'll note that many beers are tied for the highest score, so we'll also do a secondary sort alphabetically by name (not fair to the Zywiec Porter, but...). \n",
    "\n",
    "Specifically, to produce the result array: \n",
    "\n",
    "1. Take either the original dataset or your normalized dataset (the relative ranking will be the same)\n",
    "\n",
    "2. Sort by descending values of the (normalized) `review_overall` feature as the primary key\n",
    "\n",
    "3. Also sort the array by ascending values from the `beer_name` feature as the secondary key to sort the beers with tied overall review scores alphabetically.\n",
    "\n",
    "(Hint: the numpy function `lexsort` makes this easy. And if you want to reverse the direction of a numeric sort, just make the key variable negative).  \n",
    "\n",
    "Your function should return a numpy array with 10 strings (one per beer), sorted as described above.\n",
    "\n",
    "The start of your result array should look like this:\n",
    "\n",
    "```\n",
    "array(['A Fortnights Journey', 'Abbaye De Saint Bon-Chien Grand Cru (Aged In Cabernet Barrels)', ... ])\n",
    "```\n"
   ]
  },
  {
   "cell_type": "code",
   "execution_count": 8,
   "metadata": {
    "deletable": false,
    "nbgrader": {
     "cell_type": "code",
     "checksum": "96925adff1ba670a73c6dc2d66c1907d",
     "grade": false,
     "grade_id": "cell-90fb207abac68538",
     "locked": false,
     "schema_version": 3,
     "solution": true
    }
   },
   "outputs": [],
   "source": [
    "def answer_pca_b():\n",
    "    \n",
    "    result = None\n",
    "    feature_names = ['review_appearance', 'review_aroma', 'review_palate', 'review_taste', 'review_overall']\n",
    "    new_cols = feature_names.copy()\n",
    "\n",
    "    new_cols.append('beer_name')\n",
    "\n",
    "    new_df = df[new_cols]\n",
    "\n",
    "    new_df = new_df.groupby('beer_name').mean().reset_index()\n",
    "\n",
    "    arr = new_df['review_overall']\n",
    "\n",
    "    ind = np.lexsort((new_df['beer_name'],-new_df['review_overall']))\n",
    "\n",
    "    result = np.array([new_df['beer_name'][i] for i in ind][:10])\n",
    "    \n",
    "\n",
    "    # YOUR CODE HERE\n",
    "#     raise NotImplementedError()\n",
    "    \n",
    "    return result"
   ]
  },
  {
   "cell_type": "code",
   "execution_count": 9,
   "metadata": {},
   "outputs": [
    {
     "data": {
      "text/plain": [
       "array(['A Fortnights Journey',\n",
       "       'Abbaye De Saint Bon-Chien Grand Cru (Aged In Cabernet Barrels)',\n",
       "       'Aecht Schlenkerla Eiche', 'AleSmith Speedway Stout - Oak Aged',\n",
       "       'Andechser Bergbock Hell', 'Apollo', 'Aud Blonde',\n",
       "       'Augustiner Bräu Märzen Bier',\n",
       "       \"Bell's Bourbon Barrel Aged Double Cream Stout\",\n",
       "       'Belle Vue Sélection Lambic'], dtype='<U62')"
      ]
     },
     "execution_count": 9,
     "metadata": {},
     "output_type": "execute_result"
    }
   ],
   "source": [
    "feature_names = ['review_appearance', 'review_aroma', 'review_palate', 'review_taste', 'review_overall']\n",
    "new_cols = feature_names.copy()\n",
    "\n",
    "new_cols.append('beer_name')\n",
    "\n",
    "new_df = df[new_cols]\n",
    "\n",
    "new_df = new_df.groupby('beer_name').mean().reset_index()\n",
    "\n",
    "arr = new_df['review_overall']\n",
    "\n",
    "ind = np.lexsort((new_df['beer_name'],-new_df['review_overall']))\n",
    "\n",
    "ind = np.array([new_df['beer_name'][i] for i in ind][:10])\n",
    "ind\n",
    "\n",
    "\n",
    "\n",
    "\n"
   ]
  },
  {
   "cell_type": "code",
   "execution_count": 10,
   "metadata": {
    "deletable": false,
    "editable": false,
    "nbgrader": {
     "cell_type": "code",
     "checksum": "922dc72f5a20c995fb6d2c27c6fdc6c6",
     "grade": true,
     "grade_id": "cell-df7842d81626ec70",
     "locked": true,
     "points": 10,
     "schema_version": 3,
     "solution": false
    }
   },
   "outputs": [],
   "source": [
    "stu_ans = answer_pca_b()\n",
    "\n",
    "assert isinstance(stu_ans, np.ndarray), \"Q1b: Your function should return an np.ndarray. \"\n",
    "assert len(stu_ans) == 10, \"Q1b: Your array should have ten strings (beer names).\"\n",
    "\n",
    "# Some hidden tests\n",
    "\n",
    "del stu_ans"
   ]
  },
  {
   "cell_type": "markdown",
   "metadata": {
    "deletable": false,
    "editable": false,
    "nbgrader": {
     "cell_type": "markdown",
     "checksum": "94085acfd6434c28e76672f68d7519f1",
     "grade": false,
     "grade_id": "cell-fa77b41a467a89a8",
     "locked": true,
     "schema_version": 3,
     "solution": false
    }
   },
   "source": [
    "### 1c. Apply PCA (5 points) to obtain principal components.\n",
    "\n",
    "Now run PCA on the dataset computed in 1.a: the entire original dataset, normalized and averaged after applying StandardScaler. This includes all of the beers, not just the top 10. The goal is to find the the first three (3) principal components.\n",
    "\n",
    "Your function should return the scikit-learn PCA object that's been fit to the normalized beer data. *Note: when you call PCA, set random_state = 0*"
   ]
  },
  {
   "cell_type": "code",
   "execution_count": 11,
   "metadata": {
    "deletable": false,
    "nbgrader": {
     "cell_type": "code",
     "checksum": "32f271c64995ac1752195fe951c301ce",
     "grade": false,
     "grade_id": "cell-f5353de4afd88c0d",
     "locked": false,
     "schema_version": 3,
     "solution": true
    }
   },
   "outputs": [],
   "source": [
    "from sklearn.decomposition import PCA\n",
    "\n",
    "def answer_pca_c():\n",
    "    \n",
    "    result = None\n",
    "    normed = answer_pca_a()\n",
    "    \n",
    "    result = PCA(n_components = 3, random_state = 0).fit(normed)\n",
    "    \n",
    "    \n",
    "    \n",
    "    # YOUR CODE HERE\n",
    "#     raise NotImplementedError()\n",
    "    \n",
    "    return result"
   ]
  },
  {
   "cell_type": "code",
   "execution_count": 12,
   "metadata": {
    "deletable": false,
    "editable": false,
    "nbgrader": {
     "cell_type": "code",
     "checksum": "e3e3f767e2878add5ab43c40a223a4db",
     "grade": true,
     "grade_id": "cell-29e903cbfa6d20ce",
     "locked": true,
     "points": 5,
     "schema_version": 3,
     "solution": false
    }
   },
   "outputs": [],
   "source": [
    "stu_ans = answer_pca_c()\n",
    "\n",
    "assert isinstance(stu_ans, PCA), \"Q1c: Your function should return a PCA object. \"\n",
    "assert stu_ans.n_components == 3, \"Q1c: Your PCA object should be set to produce 3 components. \"\n",
    "assert stu_ans.components_.shape == (3, 5), \"Q1c: Your PCA fit on the grouped data should have produced 5 columns (one for each of the review_ features).\"\n",
    "\n",
    "# Some hidden tests\n",
    "\n",
    "del stu_ans"
   ]
  },
  {
   "cell_type": "markdown",
   "metadata": {
    "deletable": false,
    "editable": false,
    "nbgrader": {
     "cell_type": "markdown",
     "checksum": "84d37bcbfe42cf8443386501e8b8ce56",
     "grade": false,
     "grade_id": "cell-203c80f56b2752e7",
     "locked": true,
     "schema_version": 3,
     "solution": false
    }
   },
   "source": [
    "### 1d. Compute variance associated with each principal component (5 points). \n",
    "\n",
    "When looking at the linear algebra basis for PCA, we saw that PCA is equivalent to the SVD of the centered data matrix $X^*$. We also saw how the eigenvalues of the $(n-1)S$ matrix, where $S$ is the correlation matrix, are the variances associated with the PCs. Thus you can compute the variances of the PCs by taking the squares of the singular values of X*, then dividing by n−1. Using this formula, compute the variances corresponding to the three PCs you computed above and return this result as a numpy array. These variances are useful for, among other things, helping to determine the optimal number of principal components to select for your application."
   ]
  },
  {
   "cell_type": "code",
   "execution_count": 13,
   "metadata": {
    "deletable": false,
    "nbgrader": {
     "cell_type": "code",
     "checksum": "c48c40a1816e9b12c57e70aa885bc2bd",
     "grade": false,
     "grade_id": "cell-02f17d8d2d0d5d1c",
     "locked": false,
     "schema_version": 3,
     "solution": true
    }
   },
   "outputs": [],
   "source": [
    "def answer_pca_d():\n",
    "    result = None\n",
    "    \n",
    "    stu_ans = answer_pca_c()\n",
    "    result = stu_ans.explained_variance_\n",
    "    \n",
    "    \n",
    "    # YOUR CODE HERE\n",
    "#     raise NotImplementedError()\n",
    "    \n",
    "    return result"
   ]
  },
  {
   "cell_type": "code",
   "execution_count": 14,
   "metadata": {},
   "outputs": [
    {
     "data": {
      "text/plain": [
       "array([3.835, 0.486, 0.311])"
      ]
     },
     "execution_count": 14,
     "metadata": {},
     "output_type": "execute_result"
    }
   ],
   "source": [
    "stu_ans = answer_pca_c()\n",
    "stu_ans.explained_variance_\n"
   ]
  },
  {
   "cell_type": "code",
   "execution_count": 15,
   "metadata": {
    "deletable": false,
    "editable": false,
    "nbgrader": {
     "cell_type": "code",
     "checksum": "cebf3f637942516fd20b24c9bd973240",
     "grade": true,
     "grade_id": "cell-396c670939e3436d",
     "locked": true,
     "points": 5,
     "schema_version": 3,
     "solution": false
    }
   },
   "outputs": [],
   "source": [
    "stu_ans = answer_pca_d()\n",
    "\n",
    "assert isinstance(stu_ans, np.ndarray), \"Q1d: Your function should return an np.ndarray. \"\n",
    "assert stu_ans.shape == (3,), \"Q1d: Your array should have 3 variances, one per principal component.\"\n",
    "\n",
    "# Some hidden tests\n",
    "\n",
    "del stu_ans"
   ]
  },
  {
   "cell_type": "markdown",
   "metadata": {
    "deletable": false,
    "editable": false,
    "nbgrader": {
     "cell_type": "markdown",
     "checksum": "1bef9ed54fdd5abe13f7196d2189ff69",
     "grade": false,
     "grade_id": "cell-22e02293eeaaac4d",
     "locked": true,
     "schema_version": 3,
     "solution": false
    }
   },
   "source": [
    "### 1e. Exploring the principal components (6 points) \n",
    "Now it's time to look more closely at the principal component loadings and what they can tell us about the dataset. First, to start interpreting each loading, find the name of the variable/feature that has the highest *absolute value* for *each* PC (in the order returned by PCA). (Recall that there are always two equivalent solutions for each PC that are flipped by sign - hence we ignore the sign.) \n",
    "\n",
    "To help verify your results, you can use the provided heatmap plotting routine to visualize the results of your PC. \n",
    "\n",
    "Your function should return a *tuple* of three variable names - one for each of the first 3 PCs."
   ]
  },
  {
   "cell_type": "code",
   "execution_count": 16,
   "metadata": {},
   "outputs": [
    {
     "data": {
      "image/png": "[encoded data removed]",
      "text/plain": [
       "<Figure size 360x216 with 2 Axes>"
      ]
     },
     "metadata": {
      "needs_background": "light"
     },
     "output_type": "display_data"
    }
   ],
   "source": [
    "def plot_pca_heatmap(pca, feature_names):\n",
    "    pc_names = ['First PC', 'Second PC', 'Third PC']\n",
    "    fig, ax = plt.subplots(figsize=(5, 3))\n",
    "    plt.imshow(pca.components_, interpolation = 'none', cmap = 'plasma')\n",
    "    plt.xticks(np.arange(0, 5, 1), feature_names, rotation = 75, fontsize=16)\n",
    "    plt.yticks(np.arange(0.0, 3, 1), pc_names, fontsize = 16)\n",
    "    plt.colorbar()\n",
    "\n",
    "pca = answer_pca_c()\n",
    "plot_pca_heatmap(pca, feature_names)"
   ]
  },
  {
   "cell_type": "code",
   "execution_count": 35,
   "metadata": {
    "deletable": false,
    "nbgrader": {
     "cell_type": "code",
     "checksum": "a60f4a200c8abf2464639c5918b3081e",
     "grade": false,
     "grade_id": "cell-bba8c2a136310cb5",
     "locked": false,
     "schema_version": 3,
     "solution": true
    }
   },
   "outputs": [],
   "source": [
    "def answer_pca_e():\n",
    "    result = None\n",
    "    \n",
    "    stu_ans = answer_pca_c()\n",
    "    ans = []\n",
    "    for i in list(abs(stu_ans.components_)):\n",
    "            max_ind = np.argmax(i,axis=0)\n",
    "            ans.append(feature_names[max_ind])\n",
    "            \n",
    "    result = tuple(ans)\n",
    "    \n",
    "    # YOUR CODE HERE\n",
    "#     raise NotImplementedError()\n",
    "    \n",
    "    return result "
   ]
  },
  {
   "cell_type": "code",
   "execution_count": 38,
   "metadata": {},
   "outputs": [
    {
     "data": {
      "text/plain": [
       "('review_taste', 'review_appearance', 'review_aroma')"
      ]
     },
     "execution_count": 38,
     "metadata": {},
     "output_type": "execute_result"
    }
   ],
   "source": [
    "stu_ans = answer_pca_e()\n",
    "stu_ans"
   ]
  },
  {
   "cell_type": "code",
   "execution_count": 30,
   "metadata": {},
   "outputs": [
    {
     "data": {
      "text/plain": [
       "[array([0.401, 0.448, 0.457, 0.476, 0.45 ]),\n",
       " array([0.846, 0.077, 0.114, 0.254, 0.447]),\n",
       " array([0.261, 0.82 , 0.381, 0.114, 0.319])]"
      ]
     },
     "execution_count": 30,
     "metadata": {},
     "output_type": "execute_result"
    }
   ],
   "source": [
    "stu_ans = answer_pca_c()\n",
    "x = (abs(stu_ans.components_))\n"
   ]
  },
  {
   "cell_type": "code",
   "execution_count": 36,
   "metadata": {
    "deletable": false,
    "editable": false,
    "nbgrader": {
     "cell_type": "code",
     "checksum": "d345fa3ecbcdaba6c676ee7313b512ce",
     "grade": true,
     "grade_id": "cell-fae16003c24d8883",
     "locked": true,
     "points": 6,
     "schema_version": 3,
     "solution": false
    }
   },
   "outputs": [],
   "source": [
    "stu_ans = answer_pca_e()\n",
    "\n",
    "assert isinstance(stu_ans, tuple), \"Q1e: Your function should return a tuple of three strings. \"\n",
    "\n",
    "# Some hidden tests\n",
    "\n",
    "del stu_ans"
   ]
  },
  {
   "cell_type": "markdown",
   "metadata": {
    "deletable": false,
    "editable": false,
    "nbgrader": {
     "cell_type": "markdown",
     "checksum": "bfb72b441838172dfd0fb7080f0ee572",
     "grade": false,
     "grade_id": "cell-1221baf8b863fc25",
     "locked": true,
     "schema_version": 3,
     "solution": false
    }
   },
   "source": [
    "### 1f. Biplot interpretation.  (4 points).\n",
    "\n",
    "Biplots are a very useful tool for simultaneously exploring a dataset and the correlation structure of its variables.  Run the provided biplot routine on the results of your PCA to answer the following questions.\n",
    "\n",
    "1. Which variable is most correlated with PC 1?  Put the name of this variable in the first element of a list. (We'll accept either of two possible answers)\n",
    "\n",
    "2. Which variable is most correlated with PC 2?  Put the name of this variable in the second element of a list.\n",
    "\n",
    "3. Which variable has a higher correlation with review_aroma: review_palate, or review_taste?\n",
    "\n",
    "4. Which variable has close to zero correlation with review_overall?\n",
    "\n",
    "\n",
    "Place your answers (each of which will be a variable name starting with review_ ...) in a single tuple as strings, in the order of the questions above. Thus, your function should return a tuple of 4 strings containing your answers.\n"
   ]
  },
  {
   "cell_type": "code",
   "execution_count": 40,
   "metadata": {},
   "outputs": [
    {
     "data": {
      "image/png": "[encoded data removed]",
      "text/plain": [
       "<Figure size 432x288 with 1 Axes>"
      ]
     },
     "metadata": {
      "needs_background": "light"
     },
     "output_type": "display_data"
    }
   ],
   "source": [
    "## Routine to generate a high-quality biplot\n",
    "def biplot(score, coeff, maxdim, pcax, pcay, labels=None):\n",
    "    pca1=pcax-1\n",
    "    pca2=pcay-1\n",
    "    xs = score[:,pca1]\n",
    "    ys = score[:,pca2]\n",
    "    n = min(coeff.shape[0], maxdim)\n",
    "    scalex = 2.0/(xs.max()- xs.min())\n",
    "    scaley = 2.0/(ys.max()- ys.min())\n",
    "    text_scale_factor = 1.5\n",
    "    plt.scatter(xs*scalex, ys*scaley, s=1)\n",
    "    for i in range(n):\n",
    "        plt.arrow(0, 0, coeff[i,pca1], coeff[i,pca2],color='r',alpha=0.5) \n",
    "        if labels is None:\n",
    "            plt.text(coeff[i,pca1]* text_scale_factor, coeff[i,pca2] * text_scale_factor, \"Var\"+str(i+1), color='g', ha='center', va='center')\n",
    "        else:\n",
    "            plt.text(coeff[i,pca1]* text_scale_factor, coeff[i,pca2], labels[i], color='g', ha='center', va='center')\n",
    "    plt.xlim(-1,1)\n",
    "    plt.ylim(-1,1)\n",
    "    plt.xlabel(\"PC{}\".format(pcax))\n",
    "    plt.ylabel(\"PC{}\".format(pcay))\n",
    "    plt.grid()\n",
    "\n",
    "plt.figure()\n",
    "\n",
    "# Uncomment this code to generate the biplot using your previous answers\n",
    "X_beer_normalized = answer_pca_a()\n",
    "pca = answer_pca_c()\n",
    "X_beer_pca = pca.transform(X_beer_normalized)\n",
    "biplot(X_beer_pca, np.transpose(pca.components_[0:2, :]), 5, 1, 2, labels=feature_names)"
   ]
  },
  {
   "cell_type": "code",
   "execution_count": 46,
   "metadata": {
    "deletable": false,
    "nbgrader": {
     "cell_type": "code",
     "checksum": "288d092c7c3a5133b181fa7a91abffa4",
     "grade": false,
     "grade_id": "cell-a8c22df1236cd837",
     "locked": false,
     "schema_version": 3,
     "solution": true
    }
   },
   "outputs": [],
   "source": [
    "def answer_pca_f():\n",
    "    \n",
    "    result = ('review_aroma','review_appearance','review_palate','review_appearance')\n",
    "\n",
    "    # YOUR CODE HERE\n",
    "#     raise NotImplementedError()\n",
    "    \n",
    "    return result"
   ]
  },
  {
   "cell_type": "code",
   "execution_count": 42,
   "metadata": {
    "deletable": false,
    "editable": false,
    "nbgrader": {
     "cell_type": "code",
     "checksum": "d9a8139f06925eb6515b1b493a034f29",
     "grade": true,
     "grade_id": "cell-a997471ea1641151",
     "locked": true,
     "points": 4,
     "schema_version": 3,
     "solution": false
    }
   },
   "outputs": [],
   "source": [
    "stu_ans = answer_pca_f()\n",
    "\n",
    "assert isinstance(stu_ans, tuple), \"Q1f: Your function should return a tuple. \"\n",
    "assert len(stu_ans) == 4, \"Q1f: Your tuple should have four strings containing your answers to the four questions, in order. \"\n",
    "\n",
    "# Some hidden tests\n",
    "\n",
    "del stu_ans"
   ]
  },
  {
   "cell_type": "markdown",
   "metadata": {
    "deletable": false,
    "editable": false,
    "nbgrader": {
     "cell_type": "markdown",
     "checksum": "af2b7f82c42c97e6979005d757729358",
     "grade": false,
     "grade_id": "cell-2b7b7035430b1711",
     "locked": true,
     "schema_version": 3,
     "solution": false
    }
   },
   "source": [
    "## Question 2. (15 points) Find outliers in the beer dataset using UMAP.\n",
    "In this two-part question we're going to look at outlier detection - a widely-used application of unsupervised learning. The goal will be to find individual examples or groups of beers with unusual combinations of attribute review scores relative to an \"average\" beer in the dataset. To do that you'll apply the UMAP algorithm mentioned in the manifold learning lecture, combined with the Local Outlier Factor algorithm in scikit-learn. Details are in the next two parts below. We've provided all the utility routines you'll need for plotting and interpreting the outliers. The UMAP library is not part of scikit-learn but you should have it preinstalled in the online environment. \n",
    "\n",
    "Details on UMAP, including how to install locally, at: https://umap-learn.readthedocs.io/en/latest/"
   ]
  },
  {
   "cell_type": "markdown",
   "metadata": {
    "deletable": false,
    "editable": false,
    "nbgrader": {
     "cell_type": "markdown",
     "checksum": "ca4f7aaf247b863f47cc0ec4749761b4",
     "grade": false,
     "grade_id": "cell-813e157b60180f2a",
     "locked": true,
     "schema_version": 3,
     "solution": false
    }
   },
   "source": [
    "#### The following plotting routines will be helpful for you to visualize and interpret your results."
   ]
  },
  {
   "cell_type": "code",
   "execution_count": 43,
   "metadata": {},
   "outputs": [],
   "source": [
    "# plot a labelled scatterplot\n",
    "def scatter_text(x, y, text_column, color=None):\n",
    "    \n",
    "    fig = plt.gcf()\n",
    "    fig.set_size_inches(9, 9)\n",
    "    # Create the scatter plot\n",
    "    p1 = sns.scatterplot(x, y, size = 32, legend=False)\n",
    "    \n",
    "    # Add text besides each point\n",
    "    for line in range(0,x.shape[0]):\n",
    "         p1.text(x[line], y[line], \n",
    "                 text_column[line], \n",
    "                 horizontalalignment='left', \n",
    "                 size='medium', color=color, weight='semibold')\n",
    "    # Set title and axis labels\n",
    "    #plt.title(title)\n",
    "    #plt.xlabel(xlabel)\n",
    "    #plt.ylabel(ylabel)\n",
    "    return p1\n",
    "\n",
    "# randomly jitter the input points\n",
    "def rand_jitter(arr):\n",
    "    stdev = .03*(max(arr)-min(arr))\n",
    "    return arr + np.random.randn(len(arr)) * stdev\n",
    "\n",
    "\n",
    "# Given a reference vector of feature values, compares the given outlier vector\n",
    "# against the corresponding reference values and prints a summary of any differences.\n",
    "\n",
    "def interpret_component(reference, outlier, label, name, index):\n",
    "    epsilon = 0.5\n",
    "    if (outlier[index] > reference[index] + epsilon):\n",
    "        print(\"{} has a much higher {} rating ({:2f}).\".format(label,name, outlier[index]))\n",
    "    else:\n",
    "        if (outlier[index] < reference[index] - epsilon):\n",
    "            print(\"{} has a much lower {} rating ({:2f}).\".format(label,name, outlier[index]))\n",
    "\n",
    "def print_outlier_interpretation(reference, outlier, label):\n",
    "    #'review_appearance', 'review_aroma', 'review_palate', 'review_taste', 'review_overall']\n",
    "    interpret_component(reference, outlier, label, \"appearance\", 0)\n",
    "    interpret_component(reference, outlier, label, \"aroma\", 1)\n",
    "    interpret_component(reference, outlier, label, \"palate\", 2)\n",
    "    interpret_component(reference, outlier, label, \"taste\", 3)\n",
    "    interpret_component(reference, outlier, label, \"overall\", 4)\n",
    "\n",
    "def compute_outlier_component_label(reference, outlier, index, base_label):\n",
    "    epsilon = 0.5\n",
    "    if (outlier[index] > reference[index] + epsilon):\n",
    "        return \"+{} \".format(base_label)\n",
    "    if (outlier[index] < reference[index] - epsilon):\n",
    "        return \"-{} \".format(base_label)\n",
    "    return \"\"\n",
    "    \n",
    "def compute_outlier_label(reference, outlier):\n",
    "    epsilon = 0.5\n",
    "    label = \"\"\n",
    "    label = label + compute_outlier_component_label(reference, outlier, 0, \"appearance\")\n",
    "    label = label + compute_outlier_component_label(reference, outlier, 1, \"aroma\")\n",
    "    label = label + compute_outlier_component_label(reference, outlier, 2, \"palate\")\n",
    "    label = label + compute_outlier_component_label(reference, outlier, 3, \"taste\")\n",
    "    label = label + compute_outlier_component_label(reference, outlier, 4, \"overall\") \n",
    "    if (label == \"\"):\n",
    "        label = \"average\"\n",
    "    return label"
   ]
  },
  {
   "cell_type": "markdown",
   "metadata": {
    "deletable": false,
    "editable": false,
    "nbgrader": {
     "cell_type": "markdown",
     "checksum": "a621279db31ce1ae416b7695ef507f10",
     "grade": false,
     "grade_id": "cell-606e29abf64ca2e2",
     "locked": true,
     "schema_version": 3,
     "solution": false
    }
   },
   "source": [
    "### 2a. (5 points) Run UMAP to perform dimensionality reduction and neighborhood analysis on the grouped, normalized beer dataset. \n",
    "\n",
    "You create an instance of a UMAP object as follows:\n",
    "\n",
    "`import umap.umap_ as umap`\n",
    "\n",
    "`umap_obj = umap.UMAP(*..your parameters here..*)`\n",
    "\n",
    "NOTE: use the UMAP parameters *set_op_mix_ratio=0.15, random_state = 0*.  (The somewhat magical set_op_mix_ratio parameter controls how much local vs global information UMAP uses to optimize its solution. When we look for outliers, we want to preserve some global distance structure in the solution. See the UMAP paper in the references for more details.)\n",
    "\n",
    "To prepare the input for the UMAP `fit` method, do the following steps:\n",
    "\n",
    "1. Start with the X_beer_normalized result you computed for Question 1. \n",
    "2. Take the first *200* rows of this result (for performance reasons) and pass this to the UMAP fit method.\n",
    "\n",
    "Your function should simply return the UMAP object after it's been fit using these grouped, normalized beer scores as input."
   ]
  },
  {
   "cell_type": "code",
   "execution_count": 44,
   "metadata": {
    "deletable": false,
    "nbgrader": {
     "cell_type": "code",
     "checksum": "b5d26749d8a88c06516048c1e745e840",
     "grade": false,
     "grade_id": "cell-def7f87dc1ee7921",
     "locked": false,
     "schema_version": 3,
     "solution": true
    }
   },
   "outputs": [],
   "source": [
    "import umap.umap_ as umap\n",
    "\n",
    "def answer_outlier_a():\n",
    "    result = None\n",
    "    \n",
    "    normed = answer_pca_a()[:200]\n",
    "    \n",
    "    result = umap.UMAP(set_op_mix_ratio=0.15, random_state = 0).fit(normed)\n",
    "    \n",
    "    \n",
    "    \n",
    "    \n",
    "    # YOUR CODE HERE\n",
    "#     raise NotImplementedError()\n",
    "    \n",
    "    return result"
   ]
  },
  {
   "cell_type": "code",
   "execution_count": 65,
   "metadata": {
    "deletable": false,
    "editable": false,
    "nbgrader": {
     "cell_type": "code",
     "checksum": "358429d420ac71b37bf53e7a7396e663",
     "grade": true,
     "grade_id": "cell-f63cc2baaa2a46af",
     "locked": true,
     "points": 5,
     "schema_version": 3,
     "solution": false
    }
   },
   "outputs": [],
   "source": [
    "import umap.umap_ as umap\n",
    "\n",
    "stu_ans = answer_outlier_a()\n",
    "\n",
    "assert isinstance(stu_ans, umap.UMAP), \"Q2a: Your function should return a umap.UMAP object. \"\n",
    "assert (stu_ans.embedding_.shape == (200, 2)), \"Q2a: Your fitted UMAP object should have an embedding_ property of shape (200, 2).\"\n",
    "\n",
    "# Some hidden tests\n",
    "\n",
    "del stu_ans"
   ]
  },
  {
   "cell_type": "code",
   "execution_count": 82,
   "metadata": {},
   "outputs": [
    {
     "data": {
      "text/plain": [
       "Int64Index([ 60, 181, 156, 147, 199,   8,  57,  41, 143, 149,  39, 127, 195,\n",
       "            115,  15,   7,  69, 167,  56,  28],\n",
       "           dtype='int64')"
      ]
     },
     "execution_count": 82,
     "metadata": {},
     "output_type": "execute_result"
    }
   ],
   "source": [
    "# stu_ans = answer_outlier_a()\n",
    "# stu_ans.embedding_\n",
    "\n",
    "df3 = df.copy()\n",
    "df3 = df3.head(200).reset_index()\n",
    "df3['outliers'] = clf.negative_outlier_factor_\n",
    "df3 = df3.sort_values(by = 'outliers')\n",
    "test = df3.index[:20]\n",
    "# df3.reset_index()\n",
    "test"
   ]
  },
  {
   "cell_type": "markdown",
   "metadata": {
    "deletable": false,
    "editable": false,
    "nbgrader": {
     "cell_type": "markdown",
     "checksum": "054b85f865e0f6d14acb26e3911f991d",
     "grade": false,
     "grade_id": "cell-b25a76e8890f9cad",
     "locked": true,
     "schema_version": 3,
     "solution": false
    }
   },
   "source": [
    "### 2b. (10 points) Find outliers using the Local Outlier Factor (LOF) algorithm.\n",
    "\n",
    "The Local Outlier Factor (LOF) algorithm is an unsupervised learning method that does outlier detection, which means finding unusual points within a given dataset that are apart in some sense from other points in the same dataset. We applied UMAP first in order to reduce the dimensionality of the problem to just two dimensions, because the LOF algorithm searches the neighborhood of each point, which is a much more expensive operation in higher dimensions.\n",
    "\n",
    "The LOF algorithm works by computing the local density deviation of a given data point with respect to its neighbors. An outlier group is a group of samples that have much lower density than their neighbors. \n",
    "\n",
    "Note that outlier detection is *different* from novelty detection, which tries to *predict* outliers when given *new* data instances not in the training set. You can LOF for novelty detection but that's beyond the scope of this assignment.\n",
    "\n",
    "The LOF parameter n_neighbors is \"typically set 1) greater than the minimum number of samples a cluster has to contain, so that other samples can be local outliers relative to this cluster, and 2) smaller than the maximum number of close by samples that can potentially be local outliers. In practice, such information is generally not available, and taking n_neighbors=20 appears to work well in general.\"\n",
    "\n",
    "For this problem, when creating the LOF object *set n_neighbors = 10*.  The input to the LOF fit method is the embedding generated by UMAP.\n",
    "\n",
    "After fitting, the LOF class computes an output array `negative_outlier_factor_` as an attribute of the class which scores each input instance: values that are large-magnitude negative numbers are considered outliers within the fit data, while points with a negative outlier score close to -1 are considering \"inliers\" or points that have lots of nearby points and are thus not outliers.\n",
    "\n",
    "Your function should return the row indices to the top 20 *outliers* according to the negative_outlier_factor_ scores, sorted by ascending value from lowest to highest score. \n",
    "\n",
    "For fun you can take your results and run them through our interpretation code to plot them and show why they're considered outliers (see below). The plot will show how the outliers group together by shared +/- qualities.\n"
   ]
  },
  {
   "cell_type": "code",
   "execution_count": 83,
   "metadata": {
    "deletable": false,
    "nbgrader": {
     "cell_type": "code",
     "checksum": "e7263fee1d1d2ced043747507edd1354",
     "grade": false,
     "grade_id": "cell-7d603443c2e8f141",
     "locked": false,
     "schema_version": 3,
     "solution": true
    }
   },
   "outputs": [],
   "source": [
    "import umap.umap_ as umap\n",
    "from sklearn.neighbors import LocalOutlierFactor\n",
    "\n",
    "def answer_outlier_b():\n",
    "    result = None\n",
    "    \n",
    "    clf = LocalOutlierFactor(n_neighbors=10).fit(answer_outlier_a().embedding_)\n",
    "    \n",
    "    \n",
    "    df3 = df.copy()\n",
    "    df3 = df3.head(200).reset_index()\n",
    "    df3['outliers'] = clf.negative_outlier_factor_\n",
    "    df3 = df3.sort_values(by = 'outliers')\n",
    "    result = df3.index[:20]\n",
    "    result = result.to_numpy()\n",
    "\n",
    "    # YOUR CODE HERE\n",
    "#     raise NotImplementedError()\n",
    "    \n",
    "    return result"
   ]
  },
  {
   "cell_type": "code",
   "execution_count": 84,
   "metadata": {},
   "outputs": [
    {
     "data": {
      "text/plain": [
       "array([ 60, 181, 156, 147, 199,   8,  57,  41, 143, 149,  39, 127, 195,\n",
       "       115,  15,   7,  69, 167,  56,  28])"
      ]
     },
     "execution_count": 84,
     "metadata": {},
     "output_type": "execute_result"
    }
   ],
   "source": [
    "# from sklearn.neighbors import LocalOutlierFactor\n",
    "# # clf = LocalOutlierFactor(n_neighbors=10)\n",
    "\n",
    "# clf = LocalOutlierFactor(n_neighbors=10).fit(answer_outlier_a().embedding_)\n",
    "# # normed = answer_pca_a()[:200]\n",
    "\n",
    "# # clf = clf.fit(normed)\n",
    "\n",
    "# clf.negative_outlier_factor_\n",
    "stu_ans = answer_outlier_b()\n",
    "(stu_ans)\n"
   ]
  },
  {
   "cell_type": "code",
   "execution_count": 77,
   "metadata": {
    "deletable": false,
    "editable": false,
    "nbgrader": {
     "cell_type": "code",
     "checksum": "aa02ac09fbadf8ffbbb77cc0e73809b5",
     "grade": true,
     "grade_id": "cell-04f28232936208be",
     "locked": true,
     "points": 10,
     "schema_version": 3,
     "solution": false
    }
   },
   "outputs": [],
   "source": [
    "import umap.umap_ as umap\n",
    "stu_ans = answer_outlier_b()\n",
    "\n",
    "assert isinstance(stu_ans, np.ndarray), \"Q2b: Your function should return an np.ndarray. \"\n",
    "assert stu_ans.shape == (20,), \"Q2b: Your array should have 20 elements.\"\n",
    "\n",
    "# Some hidden tests\n",
    "\n",
    "del stu_ans"
   ]
  },
  {
   "cell_type": "markdown",
   "metadata": {
    "deletable": false,
    "editable": false,
    "nbgrader": {
     "cell_type": "markdown",
     "checksum": "9581874c5bce41c5f6d686a15101ea1b",
     "grade": false,
     "grade_id": "cell-264050b937394304",
     "locked": true,
     "schema_version": 3,
     "solution": false
    }
   },
   "source": [
    "#### Use the following code to plot and interpret your results"
   ]
  },
  {
   "cell_type": "code",
   "execution_count": 85,
   "metadata": {},
   "outputs": [
    {
     "name": "stdout",
     "output_type": "stream",
     "text": [
      "25 Dodici:-appearance -aroma -palate  has a much lower appearance rating (-1.794591).\n",
      "25 Dodici:-appearance -aroma -palate  has a much lower aroma rating (-0.962426).\n",
      "25 Dodici:-appearance -aroma -palate  has a much lower palate rating (-0.618333).\n",
      "AleSmith Grand Cru Ale:+appearance +aroma +taste  has a much higher appearance rating (0.590276).\n",
      "AleSmith Grand Cru Ale:+appearance +aroma +taste  has a much higher aroma rating (0.874628).\n",
      "AleSmith Grand Cru Ale:+appearance +aroma +taste  has a much higher taste rating (0.680404).\n",
      "Aecht Schlenkerla Rauchbier Märzen:+aroma +palate +taste  has a much higher aroma rating (1.022962).\n",
      "Aecht Schlenkerla Rauchbier Märzen:+aroma +palate +taste  has a much higher palate rating (0.509417).\n",
      "Aecht Schlenkerla Rauchbier Märzen:+aroma +palate +taste  has a much higher taste rating (0.658757).\n",
      "Adnams Explorer:-appearance -aroma -palate -taste  has a much lower appearance rating (-1.335963).\n",
      "Adnams Explorer:-appearance -aroma -palate -taste  has a much lower aroma rating (-1.361786).\n",
      "Adnams Explorer:-appearance -aroma -palate -taste  has a much lower palate rating (-1.449307).\n",
      "Adnams Explorer:-appearance -aroma -palate -taste  has a much lower taste rating (-0.607636).\n",
      "Alfa:-appearance -aroma -taste  has a much lower appearance rating (-2.253219).\n",
      "Alfa:-appearance -aroma -taste  has a much lower aroma rating (-0.962426).\n",
      "Alfa:-appearance -aroma -taste  has a much lower taste rating (-0.986471).\n",
      "'t Gaverhopke Zingende Blondine:-appearance +aroma +palate +taste  has a much lower appearance rating (-1.335963).\n",
      "'t Gaverhopke Zingende Blondine:-appearance +aroma +palate +taste  has a much higher aroma rating (1.433732).\n",
      "'t Gaverhopke Zingende Blondine:-appearance +aroma +palate +taste  has a much higher palate rating (0.628127).\n",
      "'t Gaverhopke Zingende Blondine:-appearance +aroma +palate +taste  has a much higher taste rating (1.286541).\n",
      "20th Anniversary Wit:-appearance +aroma +palate +taste  has a much lower appearance rating (-2.253219).\n",
      "20th Anniversary Wit:-appearance +aroma +palate +taste  has a much higher aroma rating (1.433732).\n",
      "20th Anniversary Wit:-appearance +aroma +palate +taste  has a much higher palate rating (0.628127).\n",
      "20th Anniversary Wit:-appearance +aroma +palate +taste  has a much higher taste rating (1.286541).\n",
      "186,000 MPS:-appearance +aroma +palate +taste  has a much lower appearance rating (-1.335963).\n",
      "186,000 MPS:-appearance +aroma +palate +taste  has a much higher aroma rating (0.635012).\n",
      "186,000 MPS:-appearance +aroma +palate +taste  has a much higher palate rating (0.628127).\n",
      "186,000 MPS:-appearance +aroma +palate +taste  has a much higher taste rating (0.528870).\n",
      "Adnams Belgian Abbey Ale:-appearance +aroma +palate +taste +overall  has a much lower appearance rating (-1.335963).\n",
      "Adnams Belgian Abbey Ale:-appearance +aroma +palate +taste +overall  has a much higher aroma rating (0.635012).\n",
      "Adnams Belgian Abbey Ale:-appearance +aroma +palate +taste +overall  has a much higher palate rating (1.459101).\n",
      "Adnams Belgian Abbey Ale:-appearance +aroma +palate +taste +overall  has a much higher taste rating (0.528870).\n",
      "Adnams Belgian Abbey Ale:-appearance +aroma +palate +taste +overall  has a much higher overall rating (1.227305).\n",
      "Adnams Innovation:-appearance +aroma +palate +taste +overall  has a much lower appearance rating (-1.335963).\n",
      "Adnams Innovation:-appearance +aroma +palate +taste +overall  has a much higher aroma rating (0.635012).\n",
      "Adnams Innovation:-appearance +aroma +palate +taste +overall  has a much higher palate rating (0.628127).\n",
      "Adnams Innovation:-appearance +aroma +palate +taste +overall  has a much higher taste rating (0.528870).\n",
      "Adnams Innovation:-appearance +aroma +palate +taste +overall  has a much higher overall rating (1.227305).\n",
      "1812 India Pale Ale:-appearance +palate  has a much lower appearance rating (-1.335963).\n",
      "1812 India Pale Ale:-appearance +palate  has a much higher palate rating (0.628127).\n",
      "Abbey Normal:+palate +taste  has a much higher palate rating (1.459101).\n",
      "Abbey Normal:+palate +taste  has a much higher taste rating (0.528870).\n",
      "Alexander Keith's Dark Ale:-aroma -palate -taste -overall  has a much lower aroma rating (-0.696187).\n",
      "Alexander Keith's Dark Ale:-aroma -palate -taste -overall  has a much lower palate rating (-1.587802).\n",
      "Alexander Keith's Dark Ale:-aroma -palate -taste -overall  has a much lower taste rating (-1.491585).\n",
      "Alexander Keith's Dark Ale:-aroma -palate -taste -overall  has a much lower overall rating (-1.372197).\n",
      "Abbaye De Forest:+palate +taste  has a much higher palate rating (1.459101).\n",
      "Abbaye De Forest:+palate +taste  has a much higher taste rating (0.528870).\n",
      "'t Smisje Great Reserva:+appearance +palate  has a much higher appearance rating (1.415806).\n",
      "'t Smisje Great Reserva:+appearance +palate  has a much higher palate rating (1.459101).\n",
      "'t Gaverhopke Extra:-appearance  has a much lower appearance rating (-0.571582).\n",
      "3 Ravens Dark:-appearance -palate  has a much lower appearance rating (-1.335963).\n",
      "3 Ravens Dark:-appearance -palate  has a much lower palate rating (-1.033820).\n",
      "Ahtanumous IPA:+aroma +palate +taste  has a much higher aroma rating (1.433732).\n",
      "Ahtanumous IPA:+aroma +palate +taste  has a much higher palate rating (0.628127).\n",
      "Ahtanumous IPA:+aroma +palate +taste  has a much higher taste rating (0.528870).\n",
      "20th Anniversary Rorschach One:+appearance +aroma +palate +taste  has a much higher appearance rating (1.415806).\n",
      "20th Anniversary Rorschach One:+appearance +aroma +palate +taste  has a much higher aroma rating (0.635012).\n",
      "20th Anniversary Rorschach One:+appearance +aroma +palate +taste  has a much higher palate rating (1.459101).\n",
      "20th Anniversary Rorschach One:+appearance +aroma +palate +taste  has a much higher taste rating (0.528870).\n",
      "110K+OT Batch #2 - I.R.I.S. - Barrel Aged:+appearance +aroma +palate +taste  has a much higher appearance rating (1.415806).\n",
      "110K+OT Batch #2 - I.R.I.S. - Barrel Aged:+appearance +aroma +palate +taste  has a much higher aroma rating (0.555140).\n",
      "110K+OT Batch #2 - I.R.I.S. - Barrel Aged:+appearance +aroma +palate +taste  has a much higher palate rating (0.877419).\n",
      "110K+OT Batch #2 - I.R.I.S. - Barrel Aged:+appearance +aroma +palate +taste  has a much higher taste rating (0.528870).\n"
     ]
    },
    {
     "data": {
      "text/plain": [
       "<AxesSubplot:>"
      ]
     },
     "execution_count": 85,
     "metadata": {},
     "output_type": "execute_result"
    },
    {
     "data": {
      "image/png": "[encoded data removed]",
      "text/plain": [
       "<Figure size 648x648 with 1 Axes>"
      ]
     },
     "metadata": {
      "needs_background": "light"
     },
     "output_type": "display_data"
    }
   ],
   "source": [
    "umap_obj                    = answer_outlier_a()\n",
    "outlier_list                = answer_outlier_b()\n",
    "pca_a_solution              = answer_pca_a()\n",
    "X_beer_normalized_subsample = pca_a_solution[0:200]\n",
    "\n",
    "X_beer_dimred = umap_obj.transform(X_beer_normalized_subsample)\n",
    "\n",
    "# Reconstitute the correct beer names of the grouped data\n",
    "raw_feature_names = ['beer_name', 'review_appearance', 'review_aroma', 'review_palate', 'review_taste', 'review_overall']\n",
    "\n",
    "df_group = df[raw_feature_names].groupby('beer_name').mean()\n",
    "beer_names = np.array(df_group.index)[0:200]\n",
    "\n",
    "# create the interpretation labels for the selected beers\n",
    "mean_zero = np.array([0,0,0,0,0])\n",
    "beer_labels = beer_names\n",
    "for outlier in outlier_list:\n",
    "    beer_labels[outlier] = beer_labels[outlier] + \":\"+ compute_outlier_label(mean_zero, \n",
    "                                                                             X_beer_normalized_subsample[outlier])\n",
    "    print_outlier_interpretation(mean_zero, \n",
    "                                 X_beer_normalized_subsample[outlier], \n",
    "                                 beer_names[outlier])\n",
    "    \n",
    "scatter_text(rand_jitter(X_beer_dimred[outlier_list, 0]), \n",
    "             rand_jitter(X_beer_dimred[outlier_list, 1]), \n",
    "             beer_labels[outlier_list], 'black')"
   ]
  },
  {
   "cell_type": "markdown",
   "metadata": {
    "deletable": false,
    "editable": false,
    "nbgrader": {
     "cell_type": "markdown",
     "checksum": "0611d3d95d68f350a083d13a19cce6ea",
     "grade": false,
     "grade_id": "cell-1721101fe29f9fba",
     "locked": true,
     "schema_version": 3,
     "solution": false
    }
   },
   "source": [
    "## Question 3. Using t-SNE, PCA, MDS to explore a dataset (15 points)\n",
    "\n",
    "To get more insight into what properties of high-dimensional data are preserved, or not, with different manifold learning methods, we're going to apply several to a dataset with a variety of known cluster shapes. First, run the code below to create and plot this dataset."
   ]
  },
  {
   "cell_type": "code",
   "execution_count": 86,
   "metadata": {},
   "outputs": [
    {
     "data": {
      "image/png": "[encoded data removed]",
      "text/plain": [
       "<Figure size 432x288 with 1 Axes>"
      ]
     },
     "metadata": {
      "needs_background": "light"
     },
     "output_type": "display_data"
    },
    {
     "data": {
      "image/png": "[encoded data removed]",
      "text/plain": [
       "<Figure size 432x288 with 1 Axes>"
      ]
     },
     "metadata": {
      "needs_background": "light"
     },
     "output_type": "display_data"
    }
   ],
   "source": [
    "from sklearn import cluster, datasets\n",
    "from itertools import cycle, islice\n",
    "from sklearn.preprocessing import StandardScaler\n",
    "from sklearn.preprocessing import PolynomialFeatures\n",
    "\n",
    "# The goal of this routine is to create a dataset with\n",
    "# a variety of clusters with very different properties:\n",
    "# small and dense, large and sparse, crescent-derived, etc.\n",
    "def create_complex_labeled_clusters():\n",
    "\n",
    "    n_samples = 100\n",
    "    random_state = 42\n",
    "\n",
    "    # blobs with varied variances\n",
    "    X_blobs, y_blobs = datasets.make_blobs(n_samples=n_samples, \n",
    "                                       centers = 5, n_features = 2,\n",
    "                                       cluster_std=[1.0, 2.5, 0.2, 3.0, 3.0],\n",
    "                                       random_state=random_state)\n",
    "\n",
    "\n",
    "    X_moons, y_moons = datasets.make_moons(n_samples = 100, \n",
    "                                       noise = 0.1, random_state = random_state)\n",
    "    X_moons = X_moons * 3 + [10, 10]\n",
    "    y_moons = y_moons + 5\n",
    "\n",
    "    X_raw = np.vstack((X_blobs, X_moons))\n",
    "    y     = np.append(y_blobs, y_moons)\n",
    "\n",
    "    X_scaled = StandardScaler().fit(X_raw).transform(X_raw) \n",
    "\n",
    "    # now expand to a higher-dimensional space with a non-linear transformation just for good measure\n",
    "    poly = PolynomialFeatures(3, include_bias = False)\n",
    "\n",
    "    X = poly.fit_transform(X_scaled)\n",
    "    \n",
    "    return(X, y)\n",
    "\n",
    "X, y = create_complex_labeled_clusters()\n",
    "\n",
    "colors = np.array(list(islice(cycle(['#377eb8', '#ff7f00', '#4daf4a',\n",
    "                                             '#f781bf', '#a65628', '#984ea3',\n",
    "                                             '#999999', '#e41a1c', '#dede00']),\n",
    "                                      int(max(y) + 1))))\n",
    "\n",
    "# one view\n",
    "plt.scatter(X[:, 0], X[:, 1], s=10, color=colors[y])\n",
    "plt.show()\n",
    "\n",
    "# another view\n",
    "plt.scatter(X[:, 2], X[:, 1], s=10, color=colors[y])\n",
    "plt.show()"
   ]
  },
  {
   "cell_type": "markdown",
   "metadata": {
    "deletable": false,
    "editable": false,
    "nbgrader": {
     "cell_type": "markdown",
     "checksum": "b70fb9a3c27970ce9366efc411832da3",
     "grade": false,
     "grade_id": "cell-f16631f42ef2611c",
     "locked": true,
     "schema_version": 3,
     "solution": false
    }
   },
   "source": [
    "### 3a. (10 points) Run dimensionality reduction methods on the data\n",
    "\n",
    "Create PCA, t-SNE, and MDS objects with default parameters, fit them to the complex dataset *to output two (2) components*, and transform the complex clusters dataset into this 2-dimensional space. \n",
    "*Note: wherever random_state is used, set random_state = 42*\n",
    "    \n",
    "Your function should return a tuple (X_pca, X_tsne, X_mds) with the three versions of the original transformed, complex dataset, obtained by using fit_transform. Each transformed version should have the same number of rows as the input, but only two columns."
   ]
  },
  {
   "cell_type": "code",
   "execution_count": 96,
   "metadata": {
    "deletable": false,
    "nbgrader": {
     "cell_type": "code",
     "checksum": "ec661a5d1192a6ba58c8cfd1dd94fc9f",
     "grade": false,
     "grade_id": "cell-b07da6b8149ec54b",
     "locked": false,
     "schema_version": 3,
     "solution": true
    }
   },
   "outputs": [],
   "source": [
    "def answer_manifold_a():\n",
    "    from sklearn.decomposition import PCA\n",
    "    from sklearn.manifold import TSNE\n",
    "    from sklearn.manifold import MDS\n",
    "    \n",
    "    result = None\n",
    "    \n",
    "    X,y = create_complex_labeled_clusters()\n",
    "    \n",
    "    pca = PCA(random_state = 42,n_components=2).fit_transform(X)\n",
    "\n",
    "    tsne = TSNE(random_state = 42).fit_transform(X)\n",
    "    \n",
    "    mds = MDS(random_state = 42).fit_transform(X)\n",
    "    \n",
    "    result = (pca,tsne,mds)\n",
    "    # YOUR CODE HERE\n",
    "#     raise NotImplementedError()\n",
    "    \n",
    "    return result"
   ]
  },
  {
   "cell_type": "code",
   "execution_count": 94,
   "metadata": {},
   "outputs": [
    {
     "data": {
      "text/plain": [
       "(200, 2)"
      ]
     },
     "execution_count": 94,
     "metadata": {},
     "output_type": "execute_result"
    }
   ],
   "source": [
    "X,y = create_complex_labeled_clusters()\n",
    "\n",
    "# pca = PCA(random_state = 42,n_components=2).fit_transform(X)\n",
    "\n",
    "# pca.shape\n",
    "\n",
    "from sklearn.manifold import TSNE\n",
    "\n",
    "tsne = TSNE(random_state = 42).fit_transform(X)\n",
    "tsne.shape"
   ]
  },
  {
   "cell_type": "code",
   "execution_count": 97,
   "metadata": {
    "deletable": false,
    "editable": false,
    "nbgrader": {
     "cell_type": "code",
     "checksum": "2b3064ec5a3de849b6b2af773d203142",
     "grade": true,
     "grade_id": "cell-4392d4956be6c219",
     "locked": true,
     "points": 10,
     "schema_version": 3,
     "solution": false
    }
   },
   "outputs": [],
   "source": [
    "# Autograder tests\n",
    "\n",
    "stu_ans = answer_manifold_a()\n",
    "\n",
    "assert isinstance(stu_ans, tuple), \"Q3a: Your function should return a tuple.\"\n",
    "\n",
    "assert isinstance(stu_ans[0], np.ndarray), \"Q3a: Your function should return an np.ndarray in element 0. \"\n",
    "assert isinstance(stu_ans[1], np.ndarray), \"Q3a: Your function should return an np.ndarray in element 1. \"\n",
    "assert isinstance(stu_ans[2], np.ndarray), \"Q3a: Your function should return an np.ndarray in element 2. \"\n",
    "\n",
    "assert stu_ans[0].shape == (200, 2), \"Q3a: Your PCA np.ndarray is of an incorrect shape. \"\n",
    "assert stu_ans[1].shape == (200, 2), \"Q3a: Your t-SNE np.ndarray is of an incorrect shape. \"\n",
    "assert stu_ans[2].shape == (200, 2), \"Q3a: Your MDS np.ndarray is of an incorrect shape. \"\n",
    "\n",
    "# Some hidden tests\n",
    "\n",
    "del stu_ans"
   ]
  },
  {
   "cell_type": "markdown",
   "metadata": {
    "deletable": false,
    "editable": false,
    "nbgrader": {
     "cell_type": "markdown",
     "checksum": "047be6dd0c04be9502c7bf75ead37c0b",
     "grade": false,
     "grade_id": "cell-fc5d3d767a93af81",
     "locked": true,
     "schema_version": 3,
     "solution": false
    }
   },
   "source": [
    "### 3b.  Interpreting plotted results (5 points).\n",
    "\n",
    "The goal for this part of the question is to compare the results visually in order to understand how cluster properties are affected differently by each method. This is important to understand before attempting to use them as preprocessing steps for other machine learning methods (such as clustering or classification).\n",
    "\n",
    "Step 1. Uncomment the code below to plot all three versions of the dimensionality-reduced dataset.\n",
    "\n",
    "Step 2. Examine the plots, and answer the following True/False questions.  \n",
    "\n",
    "Your function should return a *tuple* of \"T\" or \"F\" strings with your answers. For example, if your answers are True, True, False then your function should return the tuple (\"T\", \"T\", \"F\").\n",
    "\n",
    "Question 0:  t-SNE approximately preserves the density of each cluster.\n",
    "\n",
    "Question 1:  MDS approximately preserves relative distances between clusters.\n",
    "\n",
    "Question 2:  t-SNE approximately preserves relative distances between clusters."
   ]
  },
  {
   "cell_type": "code",
   "execution_count": 98,
   "metadata": {},
   "outputs": [
    {
     "data": {
      "image/png": "[encoded data removed]",
      "text/plain": [
       "<Figure size 720x576 with 4 Axes>"
      ]
     },
     "metadata": {
      "needs_background": "light"
     },
     "output_type": "display_data"
    }
   ],
   "source": [
    "fig, axes = plt.subplots(2, 2, figsize=(10, 8))\n",
    "\n",
    "X_pca, X_tsne, X_mds = answer_manifold_a()\n",
    "\n",
    "axes[0, 0].scatter(X[:, 0], X[:, 1], s=10, color=colors[y])\n",
    "axes[0, 1].scatter(X_pca[:, 0], X_pca[:, 1], s=10, color=colors[y])\n",
    "axes[1, 0].scatter(X_tsne[:, 0], X_tsne[:, 1], s=10, color=colors[y])\n",
    "axes[1, 1].scatter(X_mds[:, 0], X_mds[:, 1], s=10, color=colors[y])\n",
    "\n",
    "axes[0, 0].set_title(\"Original\")\n",
    "axes[0, 1].set_title(\"PCA\")\n",
    "axes[1, 0].set_title(\"t-SNE\")\n",
    "axes[1, 1].set_title(\"MDS\")\n",
    "del fig, axes"
   ]
  },
  {
   "cell_type": "code",
   "execution_count": 99,
   "metadata": {
    "deletable": false,
    "nbgrader": {
     "cell_type": "code",
     "checksum": "25cefd0b8269cb0bc7a56f718777bf28",
     "grade": false,
     "grade_id": "cell-08f359ff9a3f2300",
     "locked": false,
     "schema_version": 3,
     "solution": true
    }
   },
   "outputs": [],
   "source": [
    "def answer_manifold_b():\n",
    "    result = None\n",
    "\n",
    "    # YOUR CODE HERE\n",
    "#     raise NotImplementedError()\n",
    "\n",
    "    result = ('F','T','F')\n",
    "    \n",
    "    return result"
   ]
  },
  {
   "cell_type": "code",
   "execution_count": 100,
   "metadata": {
    "deletable": false,
    "editable": false,
    "nbgrader": {
     "cell_type": "code",
     "checksum": "cbf9e81ad75ea57ec3c5aacf43e9c5ed",
     "grade": true,
     "grade_id": "cell-2a7593f1cf1a03b8",
     "locked": true,
     "points": 5,
     "schema_version": 3,
     "solution": false
    }
   },
   "outputs": [],
   "source": [
    "# Autograder tests\n",
    "stu_ans = answer_manifold_b()\n",
    "\n",
    "assert isinstance(stu_ans, tuple), \"Q3b: Your function should return a tuple.\"\n",
    "assert len(stu_ans) == 3, \"Q3b: Your function should return a tuple with three elements.\"\n",
    "\n",
    "# Some hidden tests\n",
    "\n",
    "del stu_ans"
   ]
  },
  {
   "cell_type": "markdown",
   "metadata": {
    "deletable": false,
    "editable": false,
    "nbgrader": {
     "cell_type": "markdown",
     "checksum": "be7d18910df36a2d56242d73b6fa6df4",
     "grade": false,
     "grade_id": "cell-26aea9a8db755572",
     "locked": true,
     "schema_version": 3,
     "solution": false
    }
   },
   "source": [
    "## Question 4. Density estimation (30 points)\n",
    "In this question you'll use the following health study dataset to estimate the probability density of individual variables (features). This is useful for a variety of reasons, but one particular widely-used application is to build classifiers that use the resulting density-based features. (The Naive Bayes classifier is one example of this.) To see what this means, in the last part of the question you'll use one of the density-based features to create a simple classifier that predicts the probability that someone has a medical condition.\n"
   ]
  },
  {
   "cell_type": "markdown",
   "metadata": {
    "deletable": false,
    "editable": false,
    "nbgrader": {
     "cell_type": "markdown",
     "checksum": "addae782d53824048b570e81ac507d59",
     "grade": false,
     "grade_id": "cell-0851f78da9eed5ba",
     "locked": true,
     "schema_version": 3,
     "solution": false
    }
   },
   "source": [
    "Coronary Risk Factor Study (CORIS)  Rousseauw et al 1983.\n",
    "(CHD stands for Coronary Heart Disease.)\n",
    "Details in Hastie and Tibshirani (1987).\n",
    "\n",
    "A retrospective sample of males in a heart-disease high-risk region\n",
    "of the Western Cape, South Africa. There are roughly two controls per\n",
    "case of CHD. Many of the CHD positive men have undergone blood\n",
    "pressure reduction treatment and other programs to reduce their risk\n",
    "factors after their CHD event. In some cases the measurements were\n",
    "made after these treatments. These data are taken from a larger\n",
    "dataset, described in  Rousseauw et al, 1983, South African Medical\n",
    "Journal.\n",
    "\n",
    "| Attribute | Additional Description |\n",
    "| :- | :- | \n",
    "| `sbp` | systolic blood pressure |\n",
    "| `ldl` | low density lipoprotein cholesterol |\n",
    "| `adiposity` |  |\n",
    "| `famhist` | family history of heart disease (Present, Absent) |\n",
    "| `typea` | type-A behavior |\n",
    "| `obesity` |  |\n",
    "| `alcohol` | current alcohol consumption |\n",
    "| `age` | age at onset |\n",
    "| `chd` | response, coronary heart disease |"
   ]
  },
  {
   "cell_type": "markdown",
   "metadata": {
    "deletable": false,
    "editable": false,
    "nbgrader": {
     "cell_type": "markdown",
     "checksum": "0e03b165ca19af1ad0e743a02eec4fb9",
     "grade": false,
     "grade_id": "cell-2dc9f11e0447f052",
     "locked": true,
     "schema_version": 3,
     "solution": false
    }
   },
   "source": [
    "### 4a. (5 points)\n",
    "Read the file `assets/mads_SAHeart.csv` into a dataframe. Then partition this into two dataset variables:\n",
    "\n",
    "    X_sbp_chd which selects the single feature 'sbp' from all rows with chd == 1\n",
    "    X_sbp_nochd which selects the single feature 'sbp' from all rows with chd == 0\n",
    "    \n",
    "Your function should return these two variables as a tuple (X_sbp_chd, X_sbp_nochd). Each tuple entry should be a numpy ndarray with exactly 1 column (the 'sbp' feature value).\n",
    "    "
   ]
  },
  {
   "cell_type": "code",
   "execution_count": 126,
   "metadata": {
    "deletable": false,
    "nbgrader": {
     "cell_type": "code",
     "checksum": "3d6a6b586e8447045d63e528a11f1ee3",
     "grade": false,
     "grade_id": "correct_squares",
     "locked": false,
     "schema_version": 3,
     "solution": true
    }
   },
   "outputs": [],
   "source": [
    "def answer_kde_a():\n",
    "    \n",
    "    result = None\n",
    "    \n",
    "    df = pd.read_csv('assets/mads_SAHeart.csv')\n",
    "    X_sbp_chd = df[df['chd']==1]\n",
    "    X_sbp_nochd = df[df['chd']==0]\n",
    "    \n",
    "    result = (X_sbp_chd['sbp'].to_numpy().reshape(-1,1),X_sbp_nochd['sbp'].to_numpy().reshape(-1,1))\n",
    "\n",
    "\n",
    "    # YOUR CODE HERE\n",
    "#     raise NotImplementedError()\n",
    "    \n",
    "    return result"
   ]
  },
  {
   "cell_type": "code",
   "execution_count": 125,
   "metadata": {},
   "outputs": [
    {
     "data": {
      "text/plain": [
       "(160, 1)"
      ]
     },
     "execution_count": 125,
     "metadata": {},
     "output_type": "execute_result"
    }
   ],
   "source": [
    "df = pd.read_csv('assets/mads_SAHeart.csv')\n",
    "X_sbp_chd = df[df['chd']==1]\n",
    "X_sbp_nochd = df[df['chd']==0]\n",
    "\n",
    "X_sbp_chd['sbp'].to_numpy().reshape(-1,1).shape"
   ]
  },
  {
   "cell_type": "code",
   "execution_count": 127,
   "metadata": {
    "deletable": false,
    "editable": false,
    "nbgrader": {
     "cell_type": "code",
     "checksum": "23c98636230171dcf88ff60f2eea878e",
     "grade": true,
     "grade_id": "squares_invalid_input",
     "locked": false,
     "points": 5,
     "schema_version": 3,
     "solution": false
    }
   },
   "outputs": [],
   "source": [
    "# Autograder tests\n",
    "\n",
    "stu_ans = answer_kde_a()\n",
    "\n",
    "assert isinstance(stu_ans, tuple), \"Q4a: Your function should return a tuple.\"\n",
    "assert isinstance(stu_ans[0], np.ndarray), \"Q4a: Your function should return an np.ndarray in element 0. \"\n",
    "assert isinstance(stu_ans[1], np.ndarray), \"Q4a: Your function should return an np.ndarray in element 1. \"\n",
    "assert stu_ans[0].shape == (160, 1), \"Q4a: Your X_sbp_chd np.ndarray is of an incorrect shape. \"\n",
    "assert stu_ans[1].shape == (302, 1), \"Q4a: Your X_sbp_nochd np.ndarray is of an incorrect shape. \"\n",
    "\n",
    "# Some hidden tests\n",
    "\n",
    "del stu_ans"
   ]
  },
  {
   "cell_type": "markdown",
   "metadata": {
    "deletable": false,
    "editable": false,
    "nbgrader": {
     "cell_type": "markdown",
     "checksum": "cb39244d16bc629fc63e9547c8564f92",
     "grade": false,
     "grade_id": "cell-6f89ea32367126d0",
     "locked": true,
     "schema_version": 3,
     "solution": false
    }
   },
   "source": [
    "### 4b. Applying Kernel Density Estimation (10 points)\n",
    "\n",
    "Recall that Kernel Density Estimation (KDE) is a non-parametric method: it is memory-based (sometimes called instance-based) learning, meaning that we don't assume the density has a simple, parametric form like a Gaussian. Instead, as we saw for other methods like k-nearest neighbor, the density model itself is defined by the entire training set: KDE first applies a kernel function around every point, to \"smooth it out\". The width of the kernel function, and thus, the degree of smoothing, is parametrized by a \"bandwidth\" parameter. A Gaussian is often used as the kernel function, so for this question, we'll apply a *Gaussian kernel function* to every point, centred on the point, *with bandwidth parameter 5*. With that configuration, compute two kernel density estimates based on the `sbp` variable, for (a) subjects with CHD and (b) subjects without CHD.\n",
    "\n",
    "Your function should return a tuple with two elements. The first and second elements, respectively, are the result (the log density values) of the \"score_samples\" method on the CHD density and non-CHD density. These should each be a numpy array of shape (400,), since the input to the score_samples method in both cases should be an array of 400 points, evenly spaced starting at 100 up to a maximum of 220. "
   ]
  },
  {
   "cell_type": "code",
   "execution_count": 135,
   "metadata": {
    "deletable": false,
    "nbgrader": {
     "cell_type": "code",
     "checksum": "03ef54bf03b2d3b27ddfa90267c071c7",
     "grade": false,
     "grade_id": "cell-96e0486dbba2826d",
     "locked": false,
     "schema_version": 3,
     "solution": true
    }
   },
   "outputs": [],
   "source": [
    "def answer_kde_b():\n",
    "    result = None\n",
    "    from sklearn.decomposition import PCA, KernelPCA\n",
    "    from sklearn.neighbors import KernelDensity\n",
    "    \n",
    "    X_plot = np.linspace(100, 220, 400)[:, np.newaxis]\n",
    "\n",
    "    kde_with = KernelDensity(kernel='gaussian', bandwidth=5).fit(answer_kde_a()[0])\n",
    "    log_dens_w = kde_with.score_samples(X_plot)\n",
    "\n",
    "\n",
    "    kde_wo = KernelDensity(kernel='gaussian', bandwidth=5).fit(answer_kde_a()[1])\n",
    "    log_dens_wo = kde_wo.score_samples(X_plot)\n",
    "    \n",
    "    result = (log_dens_w,log_dens_wo)\n",
    "\n",
    "    # YOUR CODE HERE\n",
    "#     raise NotImplementedError()\n",
    "    \n",
    "    return result"
   ]
  },
  {
   "cell_type": "code",
   "execution_count": null,
   "metadata": {},
   "outputs": [],
   "source": [
    "X_plot = np.linspace(100, 220, 400)[:, np.newaxis]\n",
    "\n",
    "kde_with = KernelDensity(kernel='gaussian', bandwidth=5).fit(answer_kde_a()[0])\n",
    "log_dens_w = kde_with.score_samples(X_plot)\n",
    "\n",
    "\n",
    "kde_wo = KernelDensity(kernel='gaussian', bandwidth=5).fit(answer_kde_a()[1])\n",
    "log_dens_wo = kde_wo.score_samples(X_plot)\n",
    "\n"
   ]
  },
  {
   "cell_type": "code",
   "execution_count": 129,
   "metadata": {},
   "outputs": [
    {
     "data": {
      "text/plain": [
       "(400, 1)"
      ]
     },
     "execution_count": 129,
     "metadata": {},
     "output_type": "execute_result"
    }
   ],
   "source": [
    "X_plot = np.linspace(100, 220, 400)[:, np.newaxis]\n",
    "X_plot.shape"
   ]
  },
  {
   "cell_type": "code",
   "execution_count": 136,
   "metadata": {
    "deletable": false,
    "editable": false,
    "nbgrader": {
     "cell_type": "code",
     "checksum": "0f57e4eaa5e942f9e966f1ef69d5ce37",
     "grade": true,
     "grade_id": "cell-b5cb7661b0cd1cb6",
     "locked": true,
     "points": 10,
     "schema_version": 3,
     "solution": false
    }
   },
   "outputs": [],
   "source": [
    "# Autograder tests\n",
    "\n",
    "stu_ans = answer_kde_b()\n",
    "\n",
    "assert isinstance(stu_ans, tuple), \"Q4b: Your function should return a tuple.\"\n",
    "\n",
    "assert isinstance(stu_ans[0], np.ndarray), \"Q4b: Your function should return an np.ndarray in element 0. \"\n",
    "assert isinstance(stu_ans[1], np.ndarray), \"Q4b: Your function should return an np.ndarray in element 1. \"\n",
    "\n",
    "assert stu_ans[0].shape == (400,), \"Q4b: Your first array has an incorrect shape. \"\n",
    "assert stu_ans[1].shape == (400,), \"Q4b: Your second array has an incorrect shape. \"\n",
    "\n",
    "# Some hidden tests\n",
    "\n",
    "del stu_ans"
   ]
  },
  {
   "cell_type": "markdown",
   "metadata": {
    "deletable": false,
    "editable": false,
    "nbgrader": {
     "cell_type": "markdown",
     "checksum": "a14535de89590c618791772e3d9d7588",
     "grade": false,
     "grade_id": "cell-570ddb215c3445d6",
     "locked": true,
     "schema_version": 3,
     "solution": false
    }
   },
   "source": [
    "You can use the function below to plot the densities you've created."
   ]
  },
  {
   "cell_type": "code",
   "execution_count": 137,
   "metadata": {},
   "outputs": [],
   "source": [
    "def plot_densities(X_plot, class1, class2):\n",
    "    plt.clf()\n",
    "    plt.plot(X_plot, class1, color = 'g', label = 'No CHD')\n",
    "    plt.plot(X_plot, class2, color=\"r\", label = 'CHD')\n",
    "    plt.title('Density Plot of Systolic Blood Pressure')\n",
    "    plt.xlabel('Systolic Pressure')\n",
    "    plt.ylabel('Density')\n",
    "    plt.legend()\n",
    "    plt.show()"
   ]
  },
  {
   "cell_type": "code",
   "execution_count": 138,
   "metadata": {},
   "outputs": [
    {
     "data": {
      "image/png": "[encoded data removed]",
      "text/plain": [
       "<Figure size 432x288 with 1 Axes>"
      ]
     },
     "metadata": {
      "needs_background": "light"
     },
     "output_type": "display_data"
    }
   ],
   "source": [
    "# Uncomment this to plot\n",
    "X_plot = np.linspace(100, 220, num=400)\n",
    "(log_dens_chd, log_dens_nochd) = answer_kde_b()\n",
    "plot_densities(X_plot, np.exp(log_dens_nochd), np.exp(log_dens_chd))"
   ]
  },
  {
   "cell_type": "markdown",
   "metadata": {
    "deletable": false,
    "editable": false,
    "nbgrader": {
     "cell_type": "markdown",
     "checksum": "5afb59ea838e4a915583004f7ee572a0",
     "grade": false,
     "grade_id": "cell-775b131a4bb07dc6",
     "locked": true,
     "schema_version": 3,
     "solution": false
    }
   },
   "source": [
    "### 4c. Binary classification using density estimates (15 points)\n",
    "\n",
    "Now we'll use the density estimates you computed for the systolic pressure feature to build a very simple probabilistic Bayesian binary classifier that predicts one of two classes: $c_{CHD}$ or $c_{notCHD}$, based on that single `sbp` feature alone. When you computed the density estimate you already trained the classifier: by learning the density you can now compute (with the score_samples method) the quantities $\\log p(x | c_{CHD})$ and $\\log p(x | c_{notCHD})$ where $x$ is the `sbp` feature, using the score_samples method of the density estimator\n",
    "\n",
    "But if we want to predict the class of a new patient with a value $x_{NEW}$ for `sbp` systolic pressure, the classifier will need to compute $p(c_{CHD} | x)$ and $p(c_{notCHD} | x)$, and then output the class with highest probability for its prediction. How can we get $p(c_{CHD} | x)$ from $\\log p(x | c_{CHD})$ ?\n",
    "\n",
    "Bayes' rule to the rescue! According to Bayes' rule, we have\n",
    "\n",
    "$$p(c_{CHD} | x) = \\frac{p(x | c_{CHD}) \\cdot p(c_{CHD})}{p(x)}. $$\n",
    "and\n",
    "$$p(c_{notCHD} | x) = \\frac{p(x | c_{notCHD}) \\cdot p(c_{notCHD})}{p(x)}. $$\n",
    "\n",
    "As a reminder, the quantity $p(c_{CHD})$ is called the *class prior*.  It reflects our belief that a patient has CHD before we see any specific individual evidence about them (e.g. from our knowledge of the general population perhaps). The quantity $p(c_{CHD} | x)$ is called the *class posterior* because it reflects an updated belief about whether or not the patient has CHD after seeing their systolic pressure observation $x$.\n",
    "\n",
    "Taking logarithms of both sides gives us\n",
    "\n",
    "$$\\log p(c_{CHD} | x) = \\log p(x | c_{CHD}) + \\log p(c_{CHD}) - \\log p(x). $$\n",
    "and\n",
    "$$\\log p(c_{notCHD} | x) = \\log p(x | c_{notCHD}) + \\log p(c_{notCHD}) - \\log p(x). $$\n",
    "\n",
    "Goal accomplished. Now we just need to compute each of the above class predictions and select the class that gives the log probability that is greater. Note that the term $\\log p(x)$ is subtracted in the above prediction formulas for both classes, so we can remove it since it will not affect the final decision. Thus to make the class predictions we just need to compute the proportional quantities\n",
    "\n",
    "$$\\log p(c_{CHD} | x) \\propto \\log p(x | c_{CHD}) + \\log p(c_{CHD})$$\n",
    "and\n",
    "$$\\log p(c_{notCHD} | x) \\propto \\log p(x | c_{notCHD}) + \\log p(c_{notCHD})$$\n",
    "\n",
    "where the $\\propto$ symbol means \"is proportional to\".\n",
    "\n",
    "For this question, we'll assume that the prior $p(c_{CHD}) = 0.5$ for this group of patients, assuming they have already been referred to a specialist. (This doesn't reflect reality in the general case and you should experiment with different choices of lower-probability prior to see the effect on classification results.)\n",
    "\n",
    "You can get a small test dataset by calling the given function `get_chd_test_data`. Your function should return a float that is the accuracy score of your Bayesian classifier on the provided test examples. (Just a single prediction, not using cross-validation.)"
   ]
  },
  {
   "cell_type": "code",
   "execution_count": 139,
   "metadata": {
    "deletable": false,
    "editable": false,
    "nbgrader": {
     "cell_type": "code",
     "checksum": "acd8de4bd62623812c2abccc148f3c44",
     "grade": false,
     "grade_id": "cell-a7778195c084b4d3",
     "locked": true,
     "schema_version": 3,
     "solution": false
    }
   },
   "outputs": [],
   "source": [
    "def get_chd_test_data():\n",
    "    # column 0 is 'sbp' feature, column 1 is CHD label (=1 if CHD, else 0)\n",
    "    result = np.array([[200, 1], [169, 1], [120, 0], [135, 1], [142, 0], [143, 1], [150, 1], [162, 1], [100, 0], [112, 0]])\n",
    "    return result"
   ]
  },
  {
   "cell_type": "code",
   "execution_count": 148,
   "metadata": {},
   "outputs": [
    {
     "data": {
      "text/plain": [
       "array([[200,   1],\n",
       "       [169,   1],\n",
       "       [120,   0],\n",
       "       [135,   1],\n",
       "       [142,   0],\n",
       "       [143,   1],\n",
       "       [150,   1],\n",
       "       [162,   1],\n",
       "       [100,   0],\n",
       "       [112,   0]])"
      ]
     },
     "execution_count": 148,
     "metadata": {},
     "output_type": "execute_result"
    }
   ],
   "source": [
    "get_chd_test_data()"
   ]
  },
  {
   "cell_type": "code",
   "execution_count": 168,
   "metadata": {},
   "outputs": [
    {
     "data": {
      "text/plain": [
       "0.7"
      ]
     },
     "execution_count": 168,
     "metadata": {},
     "output_type": "execute_result"
    }
   ],
   "source": [
    "from sklearn.decomposition import PCA, KernelPCA\n",
    "from sklearn.neighbors import KernelDensity\n",
    "from sklearn.metrics import accuracy_score\n",
    "\n",
    "kde_with = KernelDensity(kernel='gaussian', bandwidth=5).fit(answer_kde_a()[0])\n",
    "kde_wo = KernelDensity(kernel='gaussian', bandwidth=5).fit(answer_kde_a()[1])\n",
    "\n",
    "ans = []\n",
    "X_test = []\n",
    "y_true = []\n",
    "\n",
    "for i in get_chd_test_data():\n",
    "    X_test.append(i[0])\n",
    "    y_true.append(i[1])\n",
    "    \n",
    "x = kde_with.score_samples(np.array(X_test).reshape(-1,1))\n",
    "y = kde_wo.score_samples(np.array(X_test).reshape(-1,1))\n",
    "\n",
    "df = pd.DataFrame()\n",
    "\n",
    "x,y\n",
    "df['X_test'] = X_test\n",
    "df['with'] = x\n",
    "df['without'] = y\n",
    "df['pred'] = (abs(df['without']) > abs(df['with'])).astype(int)\n",
    "df\n",
    "\n",
    "accuracy_score(y_true,df['pred'])\n",
    "    \n"
   ]
  },
  {
   "cell_type": "code",
   "execution_count": 169,
   "metadata": {
    "deletable": false,
    "nbgrader": {
     "cell_type": "code",
     "checksum": "ce9827e40bfd1a7d448447d8c3915204",
     "grade": false,
     "grade_id": "cell-866fcf8bdbec78d0",
     "locked": false,
     "schema_version": 3,
     "solution": true
    }
   },
   "outputs": [],
   "source": [
    "def answer_kde_c():\n",
    "    result = None\n",
    "    \n",
    "    from sklearn.decomposition import PCA, KernelPCA\n",
    "    from sklearn.neighbors import KernelDensity\n",
    "    from sklearn.metrics import accuracy_score\n",
    "\n",
    "    kde_with = KernelDensity(kernel='gaussian', bandwidth=5).fit(answer_kde_a()[0])\n",
    "    kde_wo = KernelDensity(kernel='gaussian', bandwidth=5).fit(answer_kde_a()[1])\n",
    "\n",
    "    ans = []\n",
    "    X_test = []\n",
    "    y_true = []\n",
    "\n",
    "    for i in get_chd_test_data():\n",
    "        X_test.append(i[0])\n",
    "        y_true.append(i[1])\n",
    "\n",
    "    x = kde_with.score_samples(np.array(X_test).reshape(-1,1))\n",
    "    y = kde_wo.score_samples(np.array(X_test).reshape(-1,1))\n",
    "\n",
    "    df = pd.DataFrame()\n",
    "\n",
    "    x,y\n",
    "    df['X_test'] = X_test\n",
    "    df['with'] = x\n",
    "    df['without'] = y\n",
    "    df['pred'] = (abs(df['without']) > abs(df['with'])).astype(int)\n",
    "    df\n",
    "\n",
    "    result = accuracy_score(y_true,df['pred'])\n",
    "\n",
    "\n",
    "\n",
    "    # YOUR CODE HERE\n",
    "#     raise NotImplementedError()\n",
    "    \n",
    "    return result"
   ]
  },
  {
   "cell_type": "code",
   "execution_count": 170,
   "metadata": {
    "deletable": false,
    "editable": false,
    "nbgrader": {
     "cell_type": "code",
     "checksum": "2d4beb9b3331ee1b48fad785173940c4",
     "grade": true,
     "grade_id": "cell-d6618620c1ab0fd0",
     "locked": true,
     "points": 15,
     "schema_version": 3,
     "solution": false
    }
   },
   "outputs": [],
   "source": [
    "# Autograder tests\n",
    "\n",
    "stu_ans = answer_kde_c()\n",
    "\n",
    "assert isinstance(stu_ans, (float, np.floating)), \"Q4c: Your function should return a float.\"\n",
    "\n",
    "# Some hidden tests\n",
    "\n",
    "del stu_ans"
   ]
  }
 ],
 "metadata": {
  "coursera": {
   "schema_names": [
    "mads_unsupervised_learning_v1_assignment1"
   ]
  },
  "kernelspec": {
   "display_name": "Python 3 (ipykernel)",
   "language": "python",
   "name": "python3"
  },
  "language_info": {
   "codemirror_mode": {
    "name": "ipython",
    "version": 3
   },
   "file_extension": ".py",
   "mimetype": "text/x-python",
   "name": "python",
   "nbconvert_exporter": "python",
   "pygments_lexer": "ipython3",
   "version": "3.8.10"
  }
 },
 "nbformat": 4,
 "nbformat_minor": 1
}
